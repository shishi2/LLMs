{
 "cells": [
  {
   "cell_type": "code",
   "execution_count": 1,
   "metadata": {},
   "outputs": [
    {
     "name": "stdout",
     "output_type": "stream",
     "text": [
      "numpy version: 1.23.0\n",
      "matplotlib version: 3.4.3\n",
      "tiktoken version: 0.7.0\n",
      "torch version: 2.4.1\n",
      "tqdm version: 4.62.3\n",
      "tensorflow version: 2.13.1\n"
     ]
    }
   ],
   "source": [
    "from importlib.metadata import version\n",
    "\n",
    "pkgs = [\n",
    "\t\"numpy\",       # PyTorch & TensorFlow dependency\n",
    "\t\"matplotlib\",  # Plotting library\n",
    "\t\"tiktoken\",    # Tokenizer\n",
    "\t\"torch\",       # Deep learning library\n",
    "\t\"tqdm\",        # Progress bar\n",
    "\t\"tensorflow\",  # For OpenAI's pretrained weights\n",
    "]\n",
    "for p in pkgs:\n",
    "\tprint(f\"{p} version: {version(p)}\")"
   ]
  },
  {
   "cell_type": "markdown",
   "metadata": {},
   "source": [
    "### 2 准备数据集"
   ]
  },
  {
   "cell_type": "code",
   "execution_count": 2,
   "metadata": {},
   "outputs": [
    {
     "name": "stdout",
     "output_type": "stream",
     "text": [
      "Number of entries: 1100\n"
     ]
    }
   ],
   "source": [
    "import json\n",
    "import os\n",
    "import urllib\n",
    "import urllib.request\n",
    "\n",
    "def download_and_load_file(file_path, url):\n",
    "\tif not os.path.exists(file_path):\n",
    "\t\twith urllib.request.urlopen(url) as response:\n",
    "\t\t\ttext_data = response.read().decode(\"utf-8\")\n",
    "\t\twith open(file_path, \"w\", encoding=\"utf-8\") as file:\n",
    "\t\t\tfile.write(text_data)\n",
    "\n",
    "\twith open(file_path, \"r\", encoding=\"utf-8\") as file:\n",
    "\t\tdata = json.load(file)\n",
    "\t\n",
    "\treturn data\n",
    "\n",
    "file_path = \"instruction-data.json\"\n",
    "url = (\n",
    "\t\"https://raw.githubusercontent.com/rasbt/LLMs-from-scratch\"\n",
    "\t\"/main/ch07/01_main-chapter-code/instruction-data.json\"\n",
    ")\n",
    "\n",
    "data = download_and_load_file(file_path, url)\n",
    "print(\"Number of entries:\", len(data))"
   ]
  },
  {
   "cell_type": "code",
   "execution_count": 3,
   "metadata": {},
   "outputs": [
    {
     "name": "stdout",
     "output_type": "stream",
     "text": [
      "Example entry:\n",
      " {'instruction': 'Identify the correct spelling of the following word.', 'input': 'Ocassion', 'output': \"The correct spelling is 'Occasion.'\"}\n"
     ]
    }
   ],
   "source": [
    "print(\"Example entry:\\n\", data[50])"
   ]
  },
  {
   "cell_type": "code",
   "execution_count": 4,
   "metadata": {},
   "outputs": [
    {
     "name": "stdout",
     "output_type": "stream",
     "text": [
      "Another example entry:\n",
      " {'instruction': \"What is an antonym of 'complicated'?\", 'input': '', 'output': \"An antonym of 'complicated' is 'simple'.\"}\n"
     ]
    }
   ],
   "source": [
    "# \"input\" 可以为空\n",
    "print(\"Another example entry:\\n\", data[999])"
   ]
  },
  {
   "cell_type": "code",
   "execution_count": 5,
   "metadata": {},
   "outputs": [],
   "source": [
    "def format_input(entry):\n",
    "\tinstruction_text = (\n",
    "\t\tf\"Below is an instruction that describes a task. \"\n",
    "\t\tf\"Write a response that appropriately completes the request.\"\n",
    "\t\tf\"\\n\\n### Instruction:\\n{entry['instruction']}\"\n",
    "\t)\n",
    "\n",
    "\tinput_text = f\"\\n\\n### Input:\\n{entry['input']}\" if entry[\"input\"] else \"\"\n",
    "\n",
    "\treturn instruction_text + input_text"
   ]
  },
  {
   "cell_type": "code",
   "execution_count": 6,
   "metadata": {},
   "outputs": [
    {
     "name": "stdout",
     "output_type": "stream",
     "text": [
      "Below is an instruction that describes a task. Write a response that appropriately completes the request.\n",
      "\n",
      "### Instruction:\n",
      "Identify the correct spelling of the following word.\n",
      "\n",
      "### Input:\n",
      "Ocassion\n",
      "\n",
      "### Response:\n",
      "The correct spelling is 'Occasion.'\n"
     ]
    }
   ],
   "source": [
    "model_input = format_input(data[50])\n",
    "desired_response = f\"\\n\\n### Response:\\n{data[50]['output']}\"\n",
    "\n",
    "print(model_input + desired_response)"
   ]
  },
  {
   "cell_type": "code",
   "execution_count": 7,
   "metadata": {},
   "outputs": [
    {
     "name": "stdout",
     "output_type": "stream",
     "text": [
      "Below is an instruction that describes a task. Write a response that appropriately completes the request.\n",
      "\n",
      "### Instruction:\n",
      "What is an antonym of 'complicated'?\n",
      "\n",
      "### Response:\n",
      "An antonym of 'complicated' is 'simple'.\n"
     ]
    }
   ],
   "source": [
    "model_input = format_input(data[999])\n",
    "desired_response = f\"\\n\\n### Response:\\n{data[999]['output']}\"\n",
    "\n",
    "print(model_input + desired_response)"
   ]
  },
  {
   "cell_type": "code",
   "execution_count": 8,
   "metadata": {},
   "outputs": [],
   "source": [
    "train_portion = int(len(data) * 0.85)\n",
    "test_portion = int(len(data) * 0.1)\n",
    "val_portion = len(data) - train_portion - test_portion\n",
    "\n",
    "train_data = data[:train_portion]\n",
    "test_data = data[train_portion:train_portion + test_portion]\n",
    "val_data = data[train_portion + test_portion:]"
   ]
  },
  {
   "cell_type": "code",
   "execution_count": 9,
   "metadata": {},
   "outputs": [
    {
     "name": "stdout",
     "output_type": "stream",
     "text": [
      "Training set length: 935\n",
      "Validation set length: 55\n",
      "Test set length: 110\n"
     ]
    }
   ],
   "source": [
    "print(\"Training set length:\", len(train_data))\n",
    "print(\"Validation set length:\", len(val_data))\n",
    "print(\"Test set length:\", len(test_data))"
   ]
  },
  {
   "cell_type": "markdown",
   "metadata": {},
   "source": [
    "### 3 Organizing data into training batches"
   ]
  },
  {
   "cell_type": "code",
   "execution_count": 10,
   "metadata": {},
   "outputs": [],
   "source": [
    "import torch\n",
    "from torch.utils.data import Dataset\n",
    "\n",
    "class InstructionDataset(Dataset):\n",
    "\tdef __init__(self, data, tokenizer):\n",
    "\t\tself.data = data\n",
    "\n",
    "\t\tself.encoded_texts = []\n",
    "\t\tfor entry in data:\n",
    "\t\t\tinstruction_plus_input = format(entry)\n",
    "\t\t\tresponse_text = f\"\\n\\n### Response:\\n{entry['output']}\"\n",
    "\t\t\tfull_text = instruction_plus_input + response_text\n",
    "\t\t\tself.encoded_texts.append(tokenizer.encode(full_text))\n",
    "\n",
    "\tdef __getitem__(self, index):\n",
    "\t\treturn self.encoded_texts[index]\n",
    "\t\n",
    "\tdef __len__(self):\n",
    "\t\treturn len(self.data)"
   ]
  },
  {
   "cell_type": "code",
   "execution_count": 11,
   "metadata": {},
   "outputs": [
    {
     "name": "stdout",
     "output_type": "stream",
     "text": [
      "[50256]\n"
     ]
    }
   ],
   "source": [
    "import tiktoken\n",
    "tokenizer = tiktoken.get_encoding(\"gpt2\")\n",
    "\n",
    "print(tokenizer.encode(\"<|endoftext|>\", allowed_special={\"<|endoftext|>\"}))"
   ]
  },
  {
   "cell_type": "code",
   "execution_count": 12,
   "metadata": {},
   "outputs": [],
   "source": [
    "# each batch to have the same length (but different batches can have different lengths)\n",
    "def custom_collate_draft_1(batch, pad_token_id=50256, device=\"cpu\"):\n",
    "\t\"\"\"\n",
    "\tinput\n",
    "\t\"\"\"\n",
    "\tbatch_max_length = max(len(item) + 1 for item in batch)\t# +1 保证所有序列末尾都有 <|endoftext|>\n",
    "\n",
    "\tinputs_lst = []\n",
    "\tfor item in batch:\n",
    "\t\tnew_item = item.copy()\n",
    "\t\tnew_item += [pad_token_id]\n",
    "\n",
    "\t\tpadded = new_item + [pad_token_id] * (batch_max_length - len(new_item))\n",
    "\t\tinputs = torch.tensor(padded[:-1])\t# ques -1?\n",
    "\t\tinputs_lst.append(inputs)\n",
    "\n",
    "\tinputs_tensor = torch.stack(inputs_lst).to(device)\n",
    "\treturn inputs_tensor\t# 最终返回的长度 = batch中最长的长度"
   ]
  },
  {
   "cell_type": "code",
   "execution_count": 13,
   "metadata": {},
   "outputs": [
    {
     "name": "stdout",
     "output_type": "stream",
     "text": [
      "tensor([[    0,     1,     2,     3,     4],\n",
      "        [    5,     6, 50256, 50256, 50256],\n",
      "        [    7,     8,     9, 50256, 50256]])\n"
     ]
    }
   ],
   "source": [
    "inputs_1 = [0, 1, 2, 3, 4]\n",
    "inputs_2 = [5, 6]\n",
    "inputs_3 = [7, 8, 9]\n",
    "\n",
    "batch = (\n",
    "\tinputs_1,\n",
    "\tinputs_2,\n",
    "\tinputs_3\n",
    ")\n",
    "\n",
    "print(custom_collate_draft_1(batch))"
   ]
  },
  {
   "cell_type": "code",
   "execution_count": 14,
   "metadata": {},
   "outputs": [],
   "source": [
    "def custom_collate_draft_2(batch, pad_token_ids=50256, device=\"cpu\"):\n",
    "\tbatch_max_length = max(len(item) + 1 for item in batch)\n",
    "\n",
    "\tinputs_lst, target_lst = [], []\n",
    "\tfor item in batch:\n",
    "\t\tnew_item = item.copy()\n",
    "\t\tnew_item += [pad_token_ids]\n",
    "\t\tpadded = new_item + [pad_token_ids] * (batch_max_length - len(new_item))\n",
    "\n",
    "\t\tinputs = torch.tensor(padded[:-1])\n",
    "\t\ttargets = torch.tensor(padded[1:])\n",
    "\t\tinputs_lst.append(inputs)\n",
    "\t\ttarget_lst.append(targets)\n",
    "\n",
    "\tinputs_tensor = torch.stack(inputs_lst).to(device)\n",
    "\ttarget_tensor = torch.stack(target_lst).to(device)\n",
    "\treturn inputs_tensor, target_tensor"
   ]
  },
  {
   "cell_type": "code",
   "execution_count": 15,
   "metadata": {},
   "outputs": [
    {
     "name": "stdout",
     "output_type": "stream",
     "text": [
      "tensor([[    0,     1,     2,     3,     4],\n",
      "        [    5,     6, 50256, 50256, 50256],\n",
      "        [    7,     8,     9, 50256, 50256]])\n",
      "tensor([[    1,     2,     3,     4, 50256],\n",
      "        [    6, 50256, 50256, 50256, 50256],\n",
      "        [    8,     9, 50256, 50256, 50256]])\n"
     ]
    }
   ],
   "source": [
    "inputs, targets = custom_collate_draft_2(batch)\n",
    "print(inputs)\n",
    "print(targets)"
   ]
  },
  {
   "cell_type": "code",
   "execution_count": 16,
   "metadata": {},
   "outputs": [],
   "source": [
    "# 忽略多余的padding\n",
    "\n",
    "def custom_collate_fn(batch, pad_token_id=50256, ignore_index=-100, allowed_max_length=None, device=\"cpu\"):\n",
    "\tbatch_max_length = max(len(item) + 1 for item in batch)\n",
    "\n",
    "\tinputs_lst, target_lst = [], []\n",
    "\tfor item in batch:\n",
    "\t\tnew_item = item.copy()\n",
    "\t\tnew_item += [pad_token_id]\n",
    "\t\tpadded = new_item + [pad_token_id] * (batch_max_length - len(new_item))\n",
    "\t\tinputs = torch.tensor(padded[:-1])\n",
    "\t\ttargets = torch.tensor(padded[1:])\n",
    "\n",
    "\t\t# 只保留第一个<|endoftext|> 其他全改为-100\n",
    "\t\tmask = targets == pad_token_id\n",
    "\t\tindices = torch.nonzero(mask).squeeze()\t# 获得 50256 下标\n",
    "\t\tif indices.numel() > 1:\t# 多个 50256\n",
    "\t\t\ttargets[indices[1:]] = ignore_index\t# 之后全换成 -100\n",
    "\n",
    "\t\t# 可选择截断至最大序列长度\n",
    "\t\tif allowed_max_length is not None:\n",
    "\t\t\tinputs = inputs[:allowed_max_length]\n",
    "\t\t\ttargets = targets[:allowed_max_length]\n",
    "\n",
    "\t\tinputs_lst.append(inputs)\n",
    "\t\ttarget_lst.append(targets)\n",
    "\t\n",
    "\tinputs_tensor = torch.stack(inputs_lst).to(device)\n",
    "\ttargets_tensor = torch.stack(target_lst).to(device)\n",
    "\n",
    "\treturn inputs_tensor, targets_tensor"
   ]
  },
  {
   "cell_type": "code",
   "execution_count": 17,
   "metadata": {},
   "outputs": [
    {
     "name": "stdout",
     "output_type": "stream",
     "text": [
      "tensor([[    0,     1,     2,     3,     4],\n",
      "        [    5,     6, 50256, 50256, 50256],\n",
      "        [    7,     8,     9, 50256, 50256]])\n",
      "tensor([[    1,     2,     3,     4, 50256],\n",
      "        [    6, 50256,  -100,  -100,  -100],\n",
      "        [    8,     9, 50256,  -100,  -100]])\n"
     ]
    }
   ],
   "source": [
    "inputs, targets = custom_collate_fn(batch)\n",
    "print(inputs)\n",
    "print(targets)"
   ]
  },
  {
   "cell_type": "code",
   "execution_count": 18,
   "metadata": {},
   "outputs": [
    {
     "name": "stdout",
     "output_type": "stream",
     "text": [
      "tensor(1.1269)\n"
     ]
    }
   ],
   "source": [
    "logits_1 = torch.tensor(\n",
    "\t[[-1.0, 1.0],  # 1st training example\n",
    "\t[-0.5, 1.5]]  # 2nd training example\n",
    ")\n",
    "targets_1 = torch.tensor([0, 1])\n",
    "\n",
    "\n",
    "loss_1 = torch.nn.functional.cross_entropy(logits_1, targets_1)\n",
    "print(loss_1)"
   ]
  },
  {
   "cell_type": "code",
   "execution_count": 19,
   "metadata": {},
   "outputs": [
    {
     "name": "stdout",
     "output_type": "stream",
     "text": [
      "tensor(0.7936)\n"
     ]
    }
   ],
   "source": [
    "logits_2 = torch.tensor(\n",
    "\t[[-1.0, 1.0],\n",
    "\t [-0.5, 1.5],\n",
    "\t [-0.5, 1.5]]  # New 3rd training example\n",
    ")\n",
    "targets_2 = torch.tensor([0, 1, 1])\n",
    "\n",
    "loss_2 = torch.nn.functional.cross_entropy(logits_2, targets_2)\n",
    "print(loss_2)"
   ]
  },
  {
   "cell_type": "code",
   "execution_count": 20,
   "metadata": {},
   "outputs": [
    {
     "name": "stdout",
     "output_type": "stream",
     "text": [
      "tensor(1.1269)\n",
      "loss_1 == loss_3: tensor(True)\n"
     ]
    }
   ],
   "source": [
    "# 将3 换成 -100\n",
    "targets_3 = torch.tensor([0, 1, -100])\n",
    "\n",
    "loss_3 = torch.nn.functional.cross_entropy(logits_2, targets_3)\t# cross_entropy 中 的ignore_index默认=-100\n",
    "print(loss_3)\n",
    "print(\"loss_1 == loss_3:\", loss_1 == loss_3)"
   ]
  },
  {
   "cell_type": "markdown",
   "metadata": {},
   "source": [
    "###  4 datdaloader"
   ]
  },
  {
   "cell_type": "code",
   "execution_count": 21,
   "metadata": {},
   "outputs": [
    {
     "name": "stdout",
     "output_type": "stream",
     "text": [
      "cuda\n"
     ]
    }
   ],
   "source": [
    "device = torch.device(\"cuda\" if torch.cuda.is_available() else \"cpu\")\n",
    "\n",
    "print(device)"
   ]
  },
  {
   "cell_type": "code",
   "execution_count": 22,
   "metadata": {},
   "outputs": [],
   "source": [
    "from functools import partial\n",
    "\n",
    "customized_collate_fn = partial(custom_collate_fn, device=device, allowed_max_length=1024)\t# 参数预填充pre-filled\t# curring!!!"
   ]
  },
  {
   "cell_type": "code",
   "execution_count": 23,
   "metadata": {},
   "outputs": [],
   "source": [
    "from torch.utils.data import DataLoader\n",
    "\n",
    "num_workers = 0\n",
    "batch_size = 8\n",
    "\n",
    "torch.manual_seed(123)\n",
    "train_dataset = InstructionDataset(train_data, tokenizer)\n",
    "train_loader = DataLoader(\n",
    "\ttrain_dataset,\n",
    "\tbatch_size=batch_size,\n",
    "\tcollate_fn=customized_collate_fn,\n",
    "\tshuffle=True,\n",
    "\tdrop_last=True,\n",
    "\tnum_workers=num_workers\n",
    ")"
   ]
  },
  {
   "cell_type": "code",
   "execution_count": 24,
   "metadata": {},
   "outputs": [],
   "source": [
    "val_dataset = InstructionDataset(val_data, tokenizer)\n",
    "val_loader = DataLoader(\n",
    "\tval_dataset,\n",
    "\tbatch_size=batch_size,\n",
    "\tcollate_fn=customized_collate_fn,\n",
    "\tshuffle=False,\n",
    "\tdrop_last=False,\n",
    "\tnum_workers=num_workers\n",
    ")\n",
    "\n",
    "test_dataset = InstructionDataset(test_data, tokenizer)\n",
    "test_loader = DataLoader(\n",
    "\ttest_dataset,\n",
    "\tbatch_size=batch_size,\n",
    "\tcollate_fn=customized_collate_fn,\n",
    "\tshuffle=False,\n",
    "\tdrop_last=False,\n",
    "\tnum_workers=num_workers\n",
    ")"
   ]
  },
  {
   "cell_type": "code",
   "execution_count": 25,
   "metadata": {},
   "outputs": [
    {
     "name": "stdout",
     "output_type": "stream",
     "text": [
      "Train loader:\n",
      "torch.Size([8, 62]) torch.Size([8, 62])\n",
      "torch.Size([8, 108]) torch.Size([8, 108])\n",
      "torch.Size([8, 77]) torch.Size([8, 77])\n",
      "torch.Size([8, 73]) torch.Size([8, 73])\n",
      "torch.Size([8, 67]) torch.Size([8, 67])\n",
      "torch.Size([8, 95]) torch.Size([8, 95])\n",
      "torch.Size([8, 90]) torch.Size([8, 90])\n",
      "torch.Size([8, 66]) torch.Size([8, 66])\n",
      "torch.Size([8, 59]) torch.Size([8, 59])\n",
      "torch.Size([8, 77]) torch.Size([8, 77])\n",
      "torch.Size([8, 68]) torch.Size([8, 68])\n",
      "torch.Size([8, 70]) torch.Size([8, 70])\n",
      "torch.Size([8, 70]) torch.Size([8, 70])\n",
      "torch.Size([8, 107]) torch.Size([8, 107])\n",
      "torch.Size([8, 89]) torch.Size([8, 89])\n",
      "torch.Size([8, 102]) torch.Size([8, 102])\n",
      "torch.Size([8, 92]) torch.Size([8, 92])\n",
      "torch.Size([8, 67]) torch.Size([8, 67])\n",
      "torch.Size([8, 118]) torch.Size([8, 118])\n",
      "torch.Size([8, 71]) torch.Size([8, 71])\n",
      "torch.Size([8, 112]) torch.Size([8, 112])\n",
      "torch.Size([8, 79]) torch.Size([8, 79])\n",
      "torch.Size([8, 76]) torch.Size([8, 76])\n",
      "torch.Size([8, 66]) torch.Size([8, 66])\n",
      "torch.Size([8, 86]) torch.Size([8, 86])\n",
      "torch.Size([8, 72]) torch.Size([8, 72])\n",
      "torch.Size([8, 67]) torch.Size([8, 67])\n",
      "torch.Size([8, 77]) torch.Size([8, 77])\n",
      "torch.Size([8, 66]) torch.Size([8, 66])\n",
      "torch.Size([8, 85]) torch.Size([8, 85])\n",
      "torch.Size([8, 105]) torch.Size([8, 105])\n",
      "torch.Size([8, 70]) torch.Size([8, 70])\n",
      "torch.Size([8, 97]) torch.Size([8, 97])\n",
      "torch.Size([8, 118]) torch.Size([8, 118])\n",
      "torch.Size([8, 79]) torch.Size([8, 79])\n",
      "torch.Size([8, 57]) torch.Size([8, 57])\n",
      "torch.Size([8, 70]) torch.Size([8, 70])\n",
      "torch.Size([8, 82]) torch.Size([8, 82])\n",
      "torch.Size([8, 75]) torch.Size([8, 75])\n",
      "torch.Size([8, 64]) torch.Size([8, 64])\n",
      "torch.Size([8, 106]) torch.Size([8, 106])\n",
      "torch.Size([8, 115]) torch.Size([8, 115])\n",
      "torch.Size([8, 70]) torch.Size([8, 70])\n",
      "torch.Size([8, 125]) torch.Size([8, 125])\n",
      "torch.Size([8, 104]) torch.Size([8, 104])\n",
      "torch.Size([8, 91]) torch.Size([8, 91])\n",
      "torch.Size([8, 84]) torch.Size([8, 84])\n",
      "torch.Size([8, 73]) torch.Size([8, 73])\n",
      "torch.Size([8, 87]) torch.Size([8, 87])\n",
      "torch.Size([8, 107]) torch.Size([8, 107])\n",
      "torch.Size([8, 85]) torch.Size([8, 85])\n",
      "torch.Size([8, 81]) torch.Size([8, 81])\n",
      "torch.Size([8, 101]) torch.Size([8, 101])\n",
      "torch.Size([8, 72]) torch.Size([8, 72])\n",
      "torch.Size([8, 88]) torch.Size([8, 88])\n",
      "torch.Size([8, 72]) torch.Size([8, 72])\n",
      "torch.Size([8, 69]) torch.Size([8, 69])\n",
      "torch.Size([8, 77]) torch.Size([8, 77])\n",
      "torch.Size([8, 112]) torch.Size([8, 112])\n",
      "torch.Size([8, 93]) torch.Size([8, 93])\n",
      "torch.Size([8, 72]) torch.Size([8, 72])\n",
      "torch.Size([8, 68]) torch.Size([8, 68])\n",
      "torch.Size([8, 72]) torch.Size([8, 72])\n",
      "torch.Size([8, 73]) torch.Size([8, 73])\n",
      "torch.Size([8, 81]) torch.Size([8, 81])\n",
      "torch.Size([8, 68]) torch.Size([8, 68])\n",
      "torch.Size([8, 123]) torch.Size([8, 123])\n",
      "torch.Size([8, 91]) torch.Size([8, 91])\n",
      "torch.Size([8, 81]) torch.Size([8, 81])\n",
      "torch.Size([8, 82]) torch.Size([8, 82])\n",
      "torch.Size([8, 94]) torch.Size([8, 94])\n",
      "torch.Size([8, 71]) torch.Size([8, 71])\n",
      "torch.Size([8, 93]) torch.Size([8, 93])\n",
      "torch.Size([8, 67]) torch.Size([8, 67])\n",
      "torch.Size([8, 82]) torch.Size([8, 82])\n",
      "torch.Size([8, 89]) torch.Size([8, 89])\n",
      "torch.Size([8, 77]) torch.Size([8, 77])\n",
      "torch.Size([8, 66]) torch.Size([8, 66])\n",
      "torch.Size([8, 65]) torch.Size([8, 65])\n",
      "torch.Size([8, 77]) torch.Size([8, 77])\n",
      "torch.Size([8, 79]) torch.Size([8, 79])\n",
      "torch.Size([8, 83]) torch.Size([8, 83])\n",
      "torch.Size([8, 67]) torch.Size([8, 67])\n",
      "torch.Size([8, 88]) torch.Size([8, 88])\n",
      "torch.Size([8, 74]) torch.Size([8, 74])\n",
      "torch.Size([8, 91]) torch.Size([8, 91])\n",
      "torch.Size([8, 63]) torch.Size([8, 63])\n",
      "torch.Size([8, 98]) torch.Size([8, 98])\n",
      "torch.Size([8, 114]) torch.Size([8, 114])\n",
      "torch.Size([8, 90]) torch.Size([8, 90])\n",
      "torch.Size([8, 71]) torch.Size([8, 71])\n",
      "torch.Size([8, 118]) torch.Size([8, 118])\n",
      "torch.Size([8, 74]) torch.Size([8, 74])\n",
      "torch.Size([8, 69]) torch.Size([8, 69])\n",
      "torch.Size([8, 114]) torch.Size([8, 114])\n",
      "torch.Size([8, 114]) torch.Size([8, 114])\n",
      "torch.Size([8, 71]) torch.Size([8, 71])\n",
      "torch.Size([8, 94]) torch.Size([8, 94])\n",
      "torch.Size([8, 72]) torch.Size([8, 72])\n",
      "torch.Size([8, 117]) torch.Size([8, 117])\n",
      "torch.Size([8, 69]) torch.Size([8, 69])\n",
      "torch.Size([8, 70]) torch.Size([8, 70])\n",
      "torch.Size([8, 109]) torch.Size([8, 109])\n",
      "torch.Size([8, 134]) torch.Size([8, 134])\n",
      "torch.Size([8, 68]) torch.Size([8, 68])\n",
      "torch.Size([8, 72]) torch.Size([8, 72])\n",
      "torch.Size([8, 99]) torch.Size([8, 99])\n",
      "torch.Size([8, 66]) torch.Size([8, 66])\n",
      "torch.Size([8, 72]) torch.Size([8, 72])\n",
      "torch.Size([8, 84]) torch.Size([8, 84])\n",
      "torch.Size([8, 67]) torch.Size([8, 67])\n",
      "torch.Size([8, 67]) torch.Size([8, 67])\n",
      "torch.Size([8, 121]) torch.Size([8, 121])\n",
      "torch.Size([8, 67]) torch.Size([8, 67])\n",
      "torch.Size([8, 107]) torch.Size([8, 107])\n",
      "torch.Size([8, 72]) torch.Size([8, 72])\n"
     ]
    }
   ],
   "source": [
    "print(\"Train loader:\")\n",
    "for inputs, targets in train_loader:\n",
    "\tprint(inputs.shape, targets.shape)"
   ]
  },
  {
   "cell_type": "code",
   "execution_count": 26,
   "metadata": {},
   "outputs": [
    {
     "name": "stdout",
     "output_type": "stream",
     "text": [
      "tensor([   90,     6,  8625,  2762, 10354,   705, 30003,  6525,   262,  6827,\n",
      "         1262,   257,   985,   576,  2637,    11,   705, 15414, 10354,   705,\n",
      "          464,  5156,   318,   845, 13779,  2637,    11,   705, 22915, 10354,\n",
      "          705,   464,  5156,   318,   355, 13779,   355,   257,  4936,  2637,\n",
      "           92,   198,   198, 21017, 18261,    25,   198,   464,  5156,   318,\n",
      "          355, 13779,   355,   257,  4936,    13, 50256, 50256, 50256, 50256,\n",
      "        50256, 50256, 50256, 50256, 50256, 50256, 50256, 50256, 50256, 50256,\n",
      "        50256, 50256], device='cuda:0')\n",
      "tensor([    6,  8625,  2762, 10354,   705, 30003,  6525,   262,  6827,  1262,\n",
      "          257,   985,   576,  2637,    11,   705, 15414, 10354,   705,   464,\n",
      "         5156,   318,   845, 13779,  2637,    11,   705, 22915, 10354,   705,\n",
      "          464,  5156,   318,   355, 13779,   355,   257,  4936,  2637,    92,\n",
      "          198,   198, 21017, 18261,    25,   198,   464,  5156,   318,   355,\n",
      "        13779,   355,   257,  4936,    13, 50256,  -100,  -100,  -100,  -100,\n",
      "         -100,  -100,  -100,  -100,  -100,  -100,  -100,  -100,  -100,  -100,\n",
      "         -100,  -100], device='cuda:0')\n"
     ]
    }
   ],
   "source": [
    "print(inputs[0])\n",
    "print(targets[0])"
   ]
  },
  {
   "cell_type": "markdown",
   "metadata": {},
   "source": [
    "### 5 Loading a pretrained LLM"
   ]
  },
  {
   "cell_type": "code",
   "execution_count": 27,
   "metadata": {},
   "outputs": [
    {
     "name": "stderr",
     "output_type": "stream",
     "text": [
      "2025-07-18 08:29:11.950745: I tensorflow/core/util/port.cc:110] oneDNN custom operations are on. You may see slightly different numerical results due to floating-point round-off errors from different computation orders. To turn them off, set the environment variable `TF_ENABLE_ONEDNN_OPTS=0`.\n",
      "2025-07-18 08:29:11.996110: I tensorflow/core/platform/cpu_feature_guard.cc:182] This TensorFlow binary is optimized to use available CPU instructions in performance-critical operations.\n",
      "To enable the following instructions: AVX2 AVX512F AVX512_VNNI FMA, in other operations, rebuild TensorFlow with the appropriate compiler flags.\n",
      "/opt/conda/lib/python3.8/site-packages/scipy/__init__.py:138: UserWarning: A NumPy version >=1.16.5 and <1.23.0 is required for this version of SciPy (detected version 1.23.0)\n",
      "  warnings.warn(f\"A NumPy version >={np_minversion} and <{np_maxversion} is required for this version of \"\n"
     ]
    },
    {
     "name": "stdout",
     "output_type": "stream",
     "text": [
      "File already exists and is up-to-date: ../ch05/gpt2/355M/checkpoint\n",
      "File already exists and is up-to-date: ../ch05/gpt2/355M/encoder.json\n",
      "File already exists and is up-to-date: ../ch05/gpt2/355M/hparams.json\n",
      "File already exists and is up-to-date: ../ch05/gpt2/355M/model.ckpt.data-00000-of-00001\n",
      "File already exists and is up-to-date: ../ch05/gpt2/355M/model.ckpt.index\n",
      "File already exists and is up-to-date: ../ch05/gpt2/355M/model.ckpt.meta\n",
      "File already exists and is up-to-date: ../ch05/gpt2/355M/vocab.bpe\n"
     ]
    }
   ],
   "source": [
    "import sys\n",
    "sys.path.append(\"../ch05\")\n",
    "\n",
    "from gpt_download import download_and_load_gpt2\n",
    "from previous_chapters import GPTModel, load_weights_into_gpt\n",
    "\n",
    "BASE_CONFIG = {\n",
    "\t\"vocab_size\": 50257,     # Vocabulary size\n",
    "\t\"context_length\": 1024,  # Context length\n",
    "\t\"drop_rate\": 0.0,        # Dropout rate\n",
    "\t\"qkv_bias\": True         # Query-key-value bias\n",
    "}\n",
    "\n",
    "model_configs = {\n",
    "\t\"gpt2-small (124M)\": {\"emb_dim\": 768, \"n_layers\": 12, \"n_heads\": 12},\n",
    "\t\"gpt2-medium (355M)\": {\"emb_dim\": 1024, \"n_layers\": 24, \"n_heads\": 16},\n",
    "\t\"gpt2-large (774M)\": {\"emb_dim\": 1280, \"n_layers\": 36, \"n_heads\": 20},\n",
    "\t\"gpt2-xl (1558M)\": {\"emb_dim\": 1600, \"n_layers\": 48, \"n_heads\": 25},\n",
    "}\n",
    "\n",
    "CHOOSE_MODEL = \"gpt2-medium (355M)\"\n",
    "\n",
    "BASE_CONFIG.update(model_configs[CHOOSE_MODEL])\n",
    "\n",
    "model_size = CHOOSE_MODEL.split(\" \")[-1].lstrip(\"(\").rstrip(\")\")\n",
    "setting, params = download_and_load_gpt2(model_size=model_size, models_dir=\"../ch05/gpt2\")\n",
    "\n",
    "model = GPTModel(BASE_CONFIG)\n",
    "load_weights_into_gpt(model, params)\n",
    "model.eval();"
   ]
  },
  {
   "cell_type": "code",
   "execution_count": 28,
   "metadata": {},
   "outputs": [
    {
     "name": "stdout",
     "output_type": "stream",
     "text": [
      "Below is an instruction that describes a task. Write a response that appropriately completes the request.\n",
      "\n",
      "### Instruction:\n",
      "Convert the active sentence to passive: 'The chef cooks the meal every day.'\n"
     ]
    }
   ],
   "source": [
    "torch.manual_seed(123)\n",
    "\n",
    "input_text = format_input(val_data[0])\n",
    "print(input_text)\n",
    "# Convert the active sentence to passive: 'The chef cooks the meal every day.'"
   ]
  },
  {
   "cell_type": "code",
   "execution_count": 29,
   "metadata": {},
   "outputs": [],
   "source": [
    "from previous_chapters import (\n",
    "    generate,\n",
    "    text_to_token_ids,\n",
    "    token_ids_to_text\n",
    ")\n",
    "\n",
    "token_ids = generate(\n",
    "    model=model,\n",
    "    idx=text_to_token_ids(input_text, tokenizer),\n",
    "    max_new_tokens=35,\n",
    "    context_size=BASE_CONFIG[\"context_length\"],\n",
    "    eos_id=50256,\n",
    ")\n",
    "generated_text = token_ids_to_text(token_ids, tokenizer)"
   ]
  },
  {
   "cell_type": "code",
   "execution_count": 30,
   "metadata": {},
   "outputs": [
    {
     "name": "stdout",
     "output_type": "stream",
     "text": [
      "The chef cooks the meal every day.\n",
      "\n",
      "### Instruction:\n",
      "\n",
      "Convert the active sentence to passive: 'The chef cooks the\n"
     ]
    }
   ],
   "source": [
    "# 只能重复回答\n",
    "response_text = (\n",
    "    generated_text[len(input_text):]\n",
    "    .replace(\"### Response:\", \"\")\n",
    "    .strip()\n",
    ")\n",
    "print(response_text)"
   ]
  },
  {
   "cell_type": "markdown",
   "metadata": {},
   "source": [
    "### 6 Finetuning the LLM on instruction data"
   ]
  },
  {
   "cell_type": "code",
   "execution_count": 31,
   "metadata": {},
   "outputs": [],
   "source": [
    "from previous_chapters import (\n",
    "    calc_loss_loader,\n",
    "    train_model_simple\n",
    ")"
   ]
  },
  {
   "cell_type": "code",
   "execution_count": 32,
   "metadata": {},
   "outputs": [
    {
     "name": "stdout",
     "output_type": "stream",
     "text": [
      "Training loss: 2.891008424758911\n",
      "Validation loss: 2.7637264251708986\n"
     ]
    }
   ],
   "source": [
    "model.to(device)\n",
    "\n",
    "torch.manual_seed(123)\n",
    "\n",
    "with torch.no_grad():\n",
    "    train_loss = calc_loss_loader(train_loader, model, device, num_batches=5)\n",
    "    val_loss = calc_loss_loader(val_loader, model, device, num_batches=5)\n",
    "\n",
    "print(\"Training loss:\", train_loss)\n",
    "print(\"Validation loss:\", val_loss)"
   ]
  },
  {
   "cell_type": "code",
   "execution_count": 33,
   "metadata": {},
   "outputs": [
    {
     "name": "stdout",
     "output_type": "stream",
     "text": [
      "Ep 1 (Step 000000): Train loss 2.107, Val loss 2.012\n",
      "Ep 1 (Step 000005): Train loss 1.085, Val loss 0.988\n",
      "Ep 1 (Step 000010): Train loss 0.790, Val loss 0.887\n",
      "Ep 1 (Step 000015): Train loss 0.827, Val loss 0.859\n",
      "Ep 1 (Step 000020): Train loss 0.714, Val loss 0.841\n",
      "Ep 1 (Step 000025): Train loss 0.706, Val loss 0.808\n",
      "Ep 1 (Step 000030): Train loss 0.773, Val loss 0.794\n",
      "Ep 1 (Step 000035): Train loss 0.698, Val loss 0.769\n",
      "Ep 1 (Step 000040): Train loss 0.673, Val loss 0.766\n",
      "Ep 1 (Step 000045): Train loss 0.621, Val loss 0.754\n",
      "Ep 1 (Step 000050): Train loss 0.632, Val loss 0.738\n",
      "Ep 1 (Step 000055): Train loss 0.705, Val loss 0.721\n",
      "Ep 1 (Step 000060): Train loss 0.706, Val loss 0.708\n",
      "Ep 1 (Step 000065): Train loss 0.624, Val loss 0.697\n",
      "Ep 1 (Step 000070): Train loss 0.520, Val loss 0.694\n",
      "Ep 1 (Step 000075): Train loss 0.542, Val loss 0.698\n",
      "Ep 1 (Step 000080): Train loss 0.586, Val loss 0.681\n",
      "Ep 1 (Step 000085): Train loss 0.487, Val loss 0.666\n",
      "Ep 1 (Step 000090): Train loss 0.520, Val loss 0.663\n",
      "Ep 1 (Step 000095): Train loss 0.481, Val loss 0.661\n",
      "Ep 1 (Step 000100): Train loss 0.480, Val loss 0.646\n",
      "Ep 1 (Step 000105): Train loss 0.535, Val loss 0.647\n",
      "Ep 1 (Step 000110): Train loss 0.528, Val loss 0.647\n",
      "Ep 1 (Step 000115): Train loss 0.504, Val loss 0.638\n",
      "Below is an instruction that describes a task. Write a response that appropriately completes the request.  ### Instruction: Convert the active sentence to passive: 'The chef cooks the meal every day.' ### Response: The chef cooks the meal every day.<|endoftext|>The following is a list of all the animals that are classified as reptiles.  Animals classified as reptiles include: 1. Amphibians 2. Reptiles \n",
      "Ep 2 (Step 000120): Train loss 0.406, Val loss 0.636\n",
      "Ep 2 (Step 000125): Train loss 0.424, Val loss 0.647\n",
      "Ep 2 (Step 000130): Train loss 0.427, Val loss 0.640\n",
      "Ep 2 (Step 000135): Train loss 0.383, Val loss 0.638\n",
      "Ep 2 (Step 000140): Train loss 0.381, Val loss 0.637\n",
      "Ep 2 (Step 000145): Train loss 0.352, Val loss 0.638\n",
      "Ep 2 (Step 000150): Train loss 0.357, Val loss 0.637\n",
      "Ep 2 (Step 000155): Train loss 0.417, Val loss 0.644\n",
      "Ep 2 (Step 000160): Train loss 0.391, Val loss 0.644\n",
      "Ep 2 (Step 000165): Train loss 0.357, Val loss 0.641\n",
      "Ep 2 (Step 000170): Train loss 0.307, Val loss 0.636\n",
      "Ep 2 (Step 000175): Train loss 0.323, Val loss 0.639\n",
      "Ep 2 (Step 000180): Train loss 0.372, Val loss 0.613\n",
      "Ep 2 (Step 000185): Train loss 0.407, Val loss 0.623\n",
      "Ep 2 (Step 000190): Train loss 0.337, Val loss 0.617\n",
      "Ep 2 (Step 000195): Train loss 0.329, Val loss 0.613\n",
      "Ep 2 (Step 000200): Train loss 0.307, Val loss 0.607\n",
      "Ep 2 (Step 000205): Train loss 0.351, Val loss 0.595\n",
      "Ep 2 (Step 000210): Train loss 0.333, Val loss 0.597\n",
      "Ep 2 (Step 000215): Train loss 0.396, Val loss 0.606\n",
      "Ep 2 (Step 000220): Train loss 0.291, Val loss 0.616\n",
      "Ep 2 (Step 000225): Train loss 0.314, Val loss 0.622\n",
      "Ep 2 (Step 000230): Train loss 0.284, Val loss 0.622\n",
      "Below is an instruction that describes a task. Write a response that appropriately completes the request.  ### Instruction: Convert the active sentence to passive: 'The chef cooks the meal every day.' ### Response: The meal is cooked every day by the chef.<|endoftext|>The following is a list of all the animals that are classified as birds.  Birds are mammals that are nocturnal and typically migrate at night. They typically\n",
      "Training completed in 0.89 minutes.\n"
     ]
    }
   ],
   "source": [
    "import time\n",
    "start_time = time.time()\n",
    "\n",
    "torch.manual_seed(123)\n",
    "\n",
    "optimizer = torch.optim.AdamW(model.parameters(), lr=5e-5, weight_decay=0.1)\n",
    "\n",
    "num_epochs = 2\n",
    "train_losses, val_losses, token_seen = train_model_simple(\n",
    "\tmodel, train_loader, val_loader, optimizer, device, num_epochs, eval_freq=5, eval_iter=5,\n",
    "\tstart_context=format_input(val_data[0]), tokenizer=tokenizer\n",
    ")\n",
    "\n",
    "end_time = time.time()\n",
    "execution_time_minutes = (end_time - start_time) / 60\n",
    "print(f\"Training completed in {execution_time_minutes:.2f} minutes.\")"
   ]
  },
  {
   "cell_type": "code",
   "execution_count": 34,
   "metadata": {},
   "outputs": [
    {
     "data": {
      "image/png": "[encoded data removed]",
      "text/plain": [
       "<Figure size 360x216 with 2 Axes>"
      ]
     },
     "metadata": {
      "needs_background": "light"
     },
     "output_type": "display_data"
    }
   ],
   "source": [
    "from previous_chapters import plot_losses\n",
    "\n",
    "epochs_tensor = torch.linspace(0, num_epochs, len(train_losses))\n",
    "plot_losses(epochs_tensor, token_seen, train_losses, val_losses)"
   ]
  },
  {
   "cell_type": "markdown",
   "metadata": {},
   "source": [
    "### 7 Extracting and saving responses"
   ]
  },
  {
   "cell_type": "code",
   "execution_count": 35,
   "metadata": {},
   "outputs": [
    {
     "name": "stdout",
     "output_type": "stream",
     "text": [
      "Below is an instruction that describes a task. Write a response that appropriately completes the request.\n",
      "\n",
      "### Instruction:\n",
      "Rewrite the sentence using a simile.\n",
      "\n",
      "### Input:\n",
      "The car is very fast.\n",
      "\n",
      "Correct response:\n",
      ">> The car is as fast as lightning.\n",
      "\n",
      "Model response:\n",
      ">> The car is as fast as a cheetah.\n",
      "The car is as fast as a cheetah.\n",
      "The car is as fast as a cheetah.\n",
      "The car is as fast as a cheetah.\n",
      "The car is as fast as a cheetah.\n",
      "The car is as fast as a cheetah.\n",
      "The car is as fast as a cheetah.\n",
      "The car is as fast as a cheetah.\n",
      "The car is as fast as a cheetah.\n",
      "The car is as fast as a cheetah.\n",
      "The car is as fast as a cheetah.\n",
      "The car is as fast as a cheetah.\n",
      "The car is as fast as a cheetah.\n",
      "The car is as fast as a cheetah.\n",
      "The car is as fast as a cheetah.\n",
      "The car is as fast as a cheetah.\n",
      "The car is as fast as a cheetah.\n",
      "The car is as fast as a cheetah.\n",
      "The car is as fast as a cheetah.\n",
      "The car is as fast as a cheetah.\n",
      "The car is as fast as a cheetah.\n",
      "The car is\n",
      "-------------------------------------\n",
      "Below is an instruction that describes a task. Write a response that appropriately completes the request.\n",
      "\n",
      "### Instruction:\n",
      "What type of cloud is typically associated with thunderstorms?\n",
      "\n",
      "Correct response:\n",
      ">> The type of cloud typically associated with thunderstorms is cumulonimbus.\n",
      "\n",
      "Model response:\n",
      ">> A thunderstorm is a type of cumulus cloud that typically forms over the surface of the Earth at a height of approximately 15 kilometers (9 miles).\n",
      "-------------------------------------\n",
      "Below is an instruction that describes a task. Write a response that appropriately completes the request.\n",
      "\n",
      "### Instruction:\n",
      "Name the author of 'Pride and Prejudice'.\n",
      "\n",
      "Correct response:\n",
      ">> Jane Austen.\n",
      "\n",
      "Model response:\n",
      ">> \n",
      "-------------------------------------\n"
     ]
    }
   ],
   "source": [
    "torch.manual_seed(123)\n",
    "\n",
    "\n",
    "for entry in test_data[:3]:\n",
    "\n",
    "    input_text = format_input(entry)\n",
    "\n",
    "    token_ids = generate(\n",
    "        model=model,\n",
    "        idx=text_to_token_ids(input_text, tokenizer).to(device),\n",
    "        max_new_tokens=256,\n",
    "        context_size=BASE_CONFIG[\"context_length\"],\n",
    "        eos_id=50256\n",
    "    )\n",
    "    generated_text = token_ids_to_text(token_ids, tokenizer)\n",
    "    response_text = (\n",
    "        generated_text[len(input_text):]\n",
    "        .replace(\"### Response:\", \"\")\n",
    "        .strip()\n",
    ")\n",
    "\n",
    "    print(input_text)\n",
    "    print(f\"\\nCorrect response:\\n>> {entry['output']}\")\n",
    "    print(f\"\\nModel response:\\n>> {response_text.strip()}\")\n",
    "    print(\"-------------------------------------\")"
   ]
  },
  {
   "cell_type": "code",
   "execution_count": 37,
   "metadata": {},
   "outputs": [
    {
     "name": "stderr",
     "output_type": "stream",
     "text": [
      "100%|██████████| 110/110 [00:44<00:00,  2.49it/s]\n"
     ]
    }
   ],
   "source": [
    "from tqdm import tqdm\n",
    "\n",
    "for i, entry in tqdm(enumerate(test_data), total=len(test_data)):\n",
    "\tinput_text = format_input(entry)\n",
    "\n",
    "\ttoken_ids = generate(\n",
    "\t\tmodel=model,\n",
    "\t\tidx=text_to_token_ids(input_text, tokenizer).to(device),\n",
    "\t\tmax_new_tokens=256,\n",
    "\t\tcontext_size=BASE_CONFIG[\"context_length\"],\n",
    "\t\teos_id=50256\n",
    "\t)\n",
    "\tgenerated_text = token_ids_to_text(token_ids, tokenizer)\n",
    "\tresponse_text = generated_text[len(input_text):].replace(\"### Response:\", \"\").strip()\n",
    "\n",
    "\ttest_data[i][\"model_response\"] = response_text\n",
    "\n",
    "with open(\"instruction-data-with-response.json\", \"w\") as file:\n",
    "    json.dump(test_data, file, indent=4)  # \"indent\" for pretty-printing"
   ]
  },
  {
   "cell_type": "code",
   "execution_count": 38,
   "metadata": {},
   "outputs": [
    {
     "name": "stdout",
     "output_type": "stream",
     "text": [
      "{'instruction': 'Rewrite the sentence using a simile.', 'input': 'The car is very fast.', 'output': 'The car is as fast as lightning.', 'model_response': 'The car is as fast as a cheetah.\\nThe car is as fast as a cheetah.\\nThe car is as fast as a cheetah.\\nThe car is as fast as a cheetah.\\nThe car is as fast as a cheetah.\\nThe car is as fast as a cheetah.\\nThe car is as fast as a cheetah.\\nThe car is as fast as a cheetah.\\nThe car is as fast as a cheetah.\\nThe car is as fast as a cheetah.\\nThe car is as fast as a cheetah.\\nThe car is as fast as a cheetah.\\nThe car is as fast as a cheetah.\\nThe car is as fast as a cheetah.\\nThe car is as fast as a cheetah.\\nThe car is as fast as a cheetah.\\nThe car is as fast as a cheetah.\\nThe car is as fast as a cheetah.\\nThe car is as fast as a cheetah.\\nThe car is as fast as a cheetah.\\nThe car is as fast as a cheetah.\\nThe car is'}\n"
     ]
    }
   ],
   "source": [
    "print(test_data[0])"
   ]
  },
  {
   "cell_type": "code",
   "execution_count": 41,
   "metadata": {},
   "outputs": [
    {
     "name": "stdout",
     "output_type": "stream",
     "text": [
      "Model saved as gpt2-medium355M-sft.pth\n"
     ]
    }
   ],
   "source": [
    "# 保存模型\n",
    "\n",
    "import re\n",
    "file_name = f\"{re.sub(r'[ ()]', '', CHOOSE_MODEL)}-sft.pth\"\n",
    "torch.save(model.state_dict(), file_name)\n",
    "print(f\"Model saved as {file_name}\")"
   ]
  },
  {
   "cell_type": "code",
   "execution_count": null,
   "metadata": {},
   "outputs": [],
   "source": [
    "### 8 Evaluating"
   ]
  }
 ],
 "metadata": {
  "kernelspec": {
   "display_name": "base",
   "language": "python",
   "name": "python3"
  },
  "language_info": {
   "codemirror_mode": {
    "name": "ipython",
    "version": 3
   },
   "file_extension": ".py",
   "mimetype": "text/x-python",
   "name": "python",
   "nbconvert_exporter": "python",
   "pygments_lexer": "ipython3",
   "version": "3.8.12"
  }
 },
 "nbformat": 4,
 "nbformat_minor": 2
}
