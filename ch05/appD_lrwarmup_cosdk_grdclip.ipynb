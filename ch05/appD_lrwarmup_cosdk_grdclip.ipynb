{
 "cells": [
  {
   "cell_type": "markdown",
   "metadata": {},
   "source": [
    "### Appendix D: Adding Bells and Whistles to the Training Loop"
   ]
  },
  {
   "cell_type": "markdown",
   "metadata": {},
   "source": [
    "- 创建模型 读取数据集"
   ]
  },
  {
   "cell_type": "code",
   "execution_count": null,
   "metadata": {},
   "outputs": [
    {
     "name": "stdout",
     "output_type": "stream",
     "text": [
      "torch version: 2.4.1\n"
     ]
    }
   ],
   "source": [
    "from importlib.metadata import version\n",
    "import torch\n",
    "\n",
    "print(\"torch version:\", version(\"torch\"))\n",
    "\n",
    "from previous_chapters import GPTModel\n",
    "\n",
    "GPT_CONFIG_124M = {\n",
    "\t\"vocab_size\": 50257,   # Vocabulary size\n",
    "\t\"context_length\": 256, # Shortened context length (orig: 1024)\n",
    "\t\"emb_dim\": 768,        # Embedding dimension\n",
    "\t\"n_heads\": 12,         # Number of attention heads\n",
    "\t\"n_layers\": 12,        # Number of layers\n",
    "\t\"drop_rate\": 0.1,      # Dropout rate\n",
    "\t\"qkv_bias\": False      # Query-key-value bias\n",
    "}\n",
    "\n",
    "device = torch.device(\"cuda\" if torch.cuda.is_available() else \"cpu\")\n",
    "\n",
    "torch.manual_seed(123)\n",
    "model = GPTModel(GPT_CONFIG_124M)\n",
    "model.eval();  # Disable dropout during inference"
   ]
  },
  {
   "cell_type": "code",
   "execution_count": null,
   "metadata": {},
   "outputs": [],
   "source": [
    "import os\n",
    "import urllib.request\n",
    "\n",
    "file_path = \"../ch02/the-verdict.txt\"\n",
    "url = \"https://raw.githubusercontent.com/rasbt/LLMs-from-scratch/main/ch02/01_main-chapter-code/the-verdict.txt\"\n",
    "\n",
    "if not os.path.exists(file_path):\n",
    "\twith urllib.request.urlopen(url) as response:\n",
    "\t\ttext_data = response.read().decode('utf-8')\n",
    "\twith open(file_path, \"w\", encoding=\"utf-8\") as file:\n",
    "\t\tfile.write(text_data)\n",
    "else:\n",
    "\twith open(file_path, \"r\", encoding=\"utf-8\") as file:\n",
    "\t\ttext_data = file.read()"
   ]
  },
  {
   "cell_type": "code",
   "execution_count": null,
   "metadata": {},
   "outputs": [],
   "source": [
    "from previous_chapters import create_dataloader_v1\n",
    "train_ratio = 0.90\n",
    "split_idx = int(train_ratio * len(text_data))\n",
    "\n",
    "torch.manual_seed(123)\n",
    "\n",
    "train_loader = create_dataloader_v1(\n",
    "\ttext_data[:split_idx],\n",
    "\tbatch_size=2,\n",
    "\tmax_length=GPT_CONFIG_124M[\"context_length\"],\n",
    "\tstride=GPT_CONFIG_124M[\"context_length\"],\n",
    "\tdrop_last=True,\n",
    "\tshuffle=True,\n",
    "\tnum_workers=0\n",
    ")\n",
    "\n",
    "val_loader = create_dataloader_v1(\n",
    "\ttext_data[split_idx:],\n",
    "\tbatch_size=2,\n",
    "\tmax_length=GPT_CONFIG_124M[\"context_length\"],\n",
    "\tstride=GPT_CONFIG_124M[\"context_length\"],\n",
    "\tdrop_last=False,\n",
    "\tshuffle=False,\n",
    "\tnum_workers=0\n",
    ")"
   ]
  },
  {
   "cell_type": "markdown",
   "metadata": {},
   "source": [
    "### Learning rate warmup"
   ]
  },
  {
   "cell_type": "markdown",
   "metadata": {},
   "source": [
    "- 学习率从 `initial_lr`*低*  慢慢增加到  `peak_lr`*高*"
   ]
  },
  {
   "cell_type": "code",
   "execution_count": 4,
   "metadata": {},
   "outputs": [],
   "source": [
    "n_epochs = 15\n",
    "initial_lr = 0.0001\n",
    "peak_lr = 0.01"
   ]
  },
  {
   "cell_type": "markdown",
   "metadata": {},
   "source": [
    "- warmup step 一般为 总step的 0.1% ~20%"
   ]
  },
  {
   "cell_type": "code",
   "execution_count": 5,
   "metadata": {},
   "outputs": [
    {
     "name": "stdout",
     "output_type": "stream",
     "text": [
      "9 15\n",
      "27\n"
     ]
    }
   ],
   "source": [
    "total_steps = len(train_loader) * n_epochs\n",
    "warmup_steps = int(0.2 * total_steps)\n",
    "print(len(train_loader), n_epochs)\n",
    "print(warmup_steps)"
   ]
  },
  {
   "cell_type": "code",
   "execution_count": null,
   "metadata": {},
   "outputs": [],
   "source": [
    "lr_increment = (peak_lr - initial_lr) / warmup_steps\t# 单次增长\n",
    "\n",
    "global_step = -1\n",
    "track_lrs = []\n",
    "\n",
    "optimizer = torch.optim.AdamW(model.parameters(), weight_decay=0.1)\n",
    "\n",
    "for epoch in range(n_epochs):\n",
    "\tfor input_batch, target_batch in train_loader:\n",
    "\t\toptimizer.zero_grad()\n",
    "\t\tglobal_step += 1\n",
    "\n",
    "\t\tif global_step < warmup_steps:\n",
    "\t\t\tlr = initial_lr + global_step * lr_increment\n",
    "\t\telse:\n",
    "\t\t\tlr = peak_lr\n",
    "\t\t\n",
    "\t\tfor param_group in optimizer.param_groups:\t# 替换优化器中的lr\n",
    "\t\t\tparam_group[\"lr\"] = lr\n",
    "\t\ttrack_lrs.append(optimizer.param_groups[0][\"lr\"])"
   ]
  },
  {
   "cell_type": "code",
   "execution_count": 7,
   "metadata": {},
   "outputs": [
    {
     "data": {
      "image/png": "[encoded data removed]",
      "text/plain": [
       "<Figure size 360x216 with 1 Axes>"
      ]
     },
     "metadata": {
      "needs_background": "light"
     },
     "output_type": "display_data"
    }
   ],
   "source": [
    "import matplotlib.pyplot as plt\n",
    "\n",
    "plt.figure(figsize=(5, 3))\n",
    "plt.ylabel(\"Learning rate\")\n",
    "plt.xlabel(\"Step\")\n",
    "total_training_steps = len(train_loader) * n_epochs\n",
    "plt.plot(range(total_training_steps), track_lrs)\n",
    "plt.tight_layout(); plt.savefig(\"1.pdf\")\n",
    "plt.show()"
   ]
  },
  {
   "cell_type": "markdown",
   "metadata": {},
   "source": [
    "### cosine decay"
   ]
  },
  {
   "cell_type": "code",
   "execution_count": null,
   "metadata": {},
   "outputs": [],
   "source": [
    "import math\n",
    "\n",
    "min_lr = 0.1 * initial_lr\n",
    "track_lrs = []\n",
    "\n",
    "lr_increment = (peak_lr - initial_lr) / warmup_steps\n",
    "global_step = -1\n",
    "\n",
    "for epoch in range(n_epochs):\n",
    "\tfor input_batch, target_batch in train_loader:\n",
    "\t\toptimizer.zero_grad()\n",
    "\t\tglobal_step += 1\n",
    "\n",
    "\t\tif global_step < warmup_steps:\n",
    "\t\t\tlr = initial_lr + global_step * lr_increment\n",
    "\t\telse:\t# 在lr warmup 之后再用cos decay\n",
    "\t\t\tprogress = ((global_step - warmup_steps) / (total_training_steps - warmup_steps))\t# x坐标\n",
    "\t\t\tlr = min_lr + (peak_lr - min_lr) * 0.5 * (1 + math.cos(math.pi * progress))\n",
    "\t\t\t# peak_lr - min_lr A\n",
    "\t\t\t# progress x\n",
    "\t\t\t# lr Y\n",
    "\t\t\t# 0.5 令其输出区间在 0~1 而不是-1~1\n",
    "\t\t\n",
    "\t\tfor param_group in optimizer.param_groups:\n",
    "\t\t\tparam_group[\"lr\"] = lr\n",
    "\t\t\ttrack_lrs.append(optimizer.param_groups[0][\"lr\"])"
   ]
  },
  {
   "cell_type": "code",
   "execution_count": 9,
   "metadata": {},
   "outputs": [
    {
     "data": {
      "image/png": "[encoded data removed]",
      "text/plain": [
       "<Figure size 360x216 with 1 Axes>"
      ]
     },
     "metadata": {
      "needs_background": "light"
     },
     "output_type": "display_data"
    }
   ],
   "source": [
    "plt.figure(figsize=(5, 3))\n",
    "plt.ylabel(\"Learning rate\")\n",
    "plt.xlabel(\"Step\")\n",
    "plt.plot(range(total_training_steps), track_lrs)\n",
    "plt.tight_layout(); plt.savefig(\"2.pdf\")\n",
    "plt.show()"
   ]
  },
  {
   "cell_type": "markdown",
   "metadata": {},
   "source": [
    "### Gradient clipping"
   ]
  },
  {
   "cell_type": "code",
   "execution_count": 10,
   "metadata": {},
   "outputs": [],
   "source": [
    "from previous_chapters import calc_loss_batch\n",
    "\n",
    "torch.manual_seed(123)\n",
    "model = GPTModel(GPT_CONFIG_124M)\n",
    "model.to(device)\n",
    "\n",
    "loss = calc_loss_batch(input_batch, target_batch, model, device)\n",
    "loss.backward()"
   ]
  },
  {
   "cell_type": "code",
   "execution_count": null,
   "metadata": {},
   "outputs": [
    {
     "name": "stdout",
     "output_type": "stream",
     "text": [
      "tensor(0.0426, device='cuda:0')\n"
     ]
    }
   ],
   "source": [
    "def find_highest_gradient(model):\n",
    "\tmax_grad = None\n",
    "\tfor param in model.parameters():\n",
    "\t\tif param.grad is not None:\n",
    "\t\t\tgrad_values = param.grad.data.flatten()\n",
    "\t\t\tmax_grad_param = grad_values.max()\n",
    "\t\t\tif max_grad is None or max_grad_param > max_grad:\n",
    "\t\t\t\tmax_grad = max_grad_param\n",
    "\treturn max_grad\n",
    "\n",
    "print(find_highest_gradient(model))"
   ]
  },
  {
   "cell_type": "code",
   "execution_count": null,
   "metadata": {},
   "outputs": [
    {
     "name": "stdout",
     "output_type": "stream",
     "text": [
      "tensor(0.0191, device='cuda:0')\n"
     ]
    }
   ],
   "source": [
    "# 应用裁剪\n",
    "torch.nn.utils.clip_grad_norm_(model.parameters(), max_norm=1.0)\t# 梯度L_2 <= 1.0\n",
    "print(find_highest_gradient(model))"
   ]
  },
  {
   "cell_type": "markdown",
   "metadata": {},
   "source": [
    "### 修改后的训练函数"
   ]
  },
  {
   "cell_type": "code",
   "execution_count": null,
   "metadata": {},
   "outputs": [],
   "source": [
    "from previous_chapters import evaluate_model, generate_and_print_sample\n",
    "\n",
    "ORIG_BOOK_VERSION = False\n",
    "\n",
    "def train_model(model, train_loader, val_loader, optimizer, device,\n",
    "\t\t\t\tn_epochs, eval_freq, eval_iter, start_context, tokenizer,\n",
    "\t\t\t\twarmup_steps, initial_lr=3e-5, min_lr=1e-6):\n",
    "\t\n",
    "\ttrain_losses, val_losses, track_tokens_seen, track_lrs = [], [], [], []\n",
    "\ttokens_seen, global_step = 0, -1\n",
    "\n",
    "\tpeak_lr = optimizer.param_groups[0][\"lr\"]\t# max\n",
    "\ttotal_training_steps = len(train_loader) * n_epochs\n",
    "\tlr_increment = (peak_lr - initial_lr) / warmup_steps\n",
    "\n",
    "\tfor epoch in range(n_epochs):\n",
    "\t\tmodel.train()\n",
    "\t\tfor input_batch, target_batch in train_loader:\n",
    "\t\t\toptimizer.zero_grad()\n",
    "\t\t\tglobal_step += 1\n",
    "\n",
    "\t\t\t# 学习率\n",
    "\t\t\tif global_step < warmup_steps:\n",
    "\t\t\t\tlr = initial_lr + lr_increment * global_step\n",
    "\t\t\telse:\n",
    "\t\t\t\tprogress = (global_step - warmup_steps) / (total_training_steps - warmup_steps)\n",
    "\t\t\t\tlr = min_lr + (peak_lr - min_lr) * 0.5 * (1 + math.cos(math.pi * progress))\t# 只能用math 不能用torch\n",
    "\t\t\t\n",
    "\t\t\tfor param_group in optimizer.param_groups:\n",
    "\t\t\t\tparam_group[\"lr\"] = lr\n",
    "\t\t\ttrack_lrs.append(lr)\n",
    "\n",
    "\t\t\tloss = calc_loss_batch(input_batch, target_batch, model, device)\n",
    "\t\t\tloss.backward()\n",
    "\n",
    "\t\t\t# warmup 之后进行gradient clip\n",
    "\t\t\tif ORIG_BOOK_VERSION:\n",
    "\t\t\t\tif global_step > warmup_steps:\n",
    "\t\t\t\t\ttorch.nn.utils.clip_grad_norm_(model.parameters(), max_norm=1.0)\n",
    "\t\t\telse:\n",
    "\t\t\t\tif global_step >= warmup_steps:\n",
    "\t\t\t\t\ttorch.nn.utils.clip_grad_norm_(model.parameters(), max_norm=1.0)\n",
    "\n",
    "\t\t\toptimizer.step()\n",
    "\t\t\ttokens_seen += input_batch.numel()\n",
    "\n",
    "\t\t\t# 评估\n",
    "\t\t\tif global_step % eval_freq == 0:\n",
    "\t\t\t\ttrain_loss, val_loss = evaluate_model(\n",
    "\t\t\t\t\tmodel, train_loader, val_loader, device, eval_iter\n",
    "\t\t\t\t)\n",
    "\t\t\t\ttrain_losses.append(train_loss)\n",
    "\t\t\t\tval_losses.append(val_loss)\n",
    "\t\t\t\ttrack_tokens_seen.append(tokens_seen)\n",
    "\t\t\t\tprint(f\"Ep {epoch+1} (Iter {global_step:06d}): \"\n",
    "\t\t\t\t\t\tf\"Train loss {train_loss:.3f}, \"\n",
    "\t\t\t\t\t\tf\"Val loss {val_loss:.3f}\"\n",
    "\t\t\t\t)\n",
    "\n",
    "\t\tgenerate_and_print_sample(\n",
    "\t\t\tmodel, tokenizer, device, start_context\n",
    "\t\t)\n",
    "\treturn train_losses, val_losses, track_tokens_seen, track_lrs"
   ]
  },
  {
   "cell_type": "code",
   "execution_count": 24,
   "metadata": {},
   "outputs": [
    {
     "name": "stdout",
     "output_type": "stream",
     "text": [
      "Ep 1 (Iter 000000): Train loss 10.969, Val loss 10.938\n",
      "Ep 1 (Iter 000005): Train loss 9.336, Val loss 9.461\n",
      "Every effort moves you,,,,,,,,,,,,,,,,,,,,,,,,,,,,,,,,,,,,,,,,,,,,,,,,,,\n",
      "Ep 2 (Iter 000010): Train loss 7.818, Val loss 8.187\n",
      "Ep 2 (Iter 000015): Train loss 6.338, Val loss 6.893\n",
      "Every effort moves you,,,,,,,,,,,,,,,,,,,,,,,,,,,,,,,,,,,,,,,,,,,,,,,,,,\n",
      "Ep 3 (Iter 000020): Train loss 6.075, Val loss 6.595\n",
      "Ep 3 (Iter 000025): Train loss 5.674, Val loss 6.767\n",
      "Every effort moves you, the of the of the of the of the of the of the of the of the of the of the of the of the of the of the of the of the of the of the of the of the of the of the of the of the\n",
      "Ep 4 (Iter 000030): Train loss 5.650, Val loss 6.783\n",
      "Ep 4 (Iter 000035): Train loss 5.645, Val loss 6.789\n",
      "Every effort moves you.                                                 \n",
      "Ep 5 (Iter 000040): Train loss 5.294, Val loss 6.622\n",
      "Every effort moves you his the picture and a the picture--as a a little a the picture and a, and I had the his, and a little, and I had the a a little the his a the picture his the picture and a of the a, and\n",
      "Ep 6 (Iter 000045): Train loss 4.499, Val loss 6.440\n",
      "Ep 6 (Iter 000050): Train loss 4.029, Val loss 6.309\n",
      "Every effort moves you know the \"I the picture                                           \n",
      "Ep 7 (Iter 000055): Train loss 3.523, Val loss 6.408\n",
      "Ep 7 (Iter 000060): Train loss 2.686, Val loss 6.167\n",
      "Every effort moves you know the picture to me--I.                                          \n",
      "Ep 8 (Iter 000065): Train loss 2.271, Val loss 6.203\n",
      "Ep 8 (Iter 000070): Train loss 2.102, Val loss 6.248\n",
      "Every effort moves you know,\" was not that, the end of the end of the last in a little: \"Be's an awful simpleton, and Mrs.                     \n",
      "Ep 9 (Iter 000075): Train loss 1.792, Val loss 6.199\n",
      "Ep 9 (Iter 000080): Train loss 0.891, Val loss 6.224\n",
      "Every effort moves you know.\"                                  \"--if I he said, and; and Mrs.  \n",
      "Ep 10 (Iter 000085): Train loss 0.874, Val loss 6.318\n",
      "Every effort moves you?\"            \"I turned back to my work, and I, I seemed to see a smile behind his close grayish beard--as if he had the donkey. I had been himself by holding\n",
      "Ep 11 (Iter 000090): Train loss 0.546, Val loss 6.330\n",
      "Ep 11 (Iter 000095): Train loss 0.524, Val loss 6.352\n",
      "Every effort moves you?\"  \"Yes--quite insensible to the irony. She wanted him vindicated--and by me!\"  He laughed again, and threw back his head to look up at the sketch of the donkey. \"There were days when I\n",
      "Ep 12 (Iter 000100): Train loss 0.410, Val loss 6.407\n",
      "Ep 12 (Iter 000105): Train loss 0.257, Val loss 6.447\n",
      "Every effort moves you?\"  \"Yes--quite insensible to the irony. She wanted him vindicated--and by me!\"  He laughed again, and threw back his head to look up at the sketch of the donkey. \"There were days when I\n",
      "Ep 13 (Iter 000110): Train loss 0.286, Val loss 6.499\n",
      "Ep 13 (Iter 000115): Train loss 0.212, Val loss 6.521\n",
      "Every effort moves you?\"  \"Yes--quite insensible to the irony. She wanted him vindicated--and by me!\"  He laughed again, and threw back his head to look up at the sketch of the donkey. \"There were days when I\n",
      "Ep 14 (Iter 000120): Train loss 0.207, Val loss 6.533\n",
      "Ep 14 (Iter 000125): Train loss 0.183, Val loss 6.536\n",
      "Every effort moves you?\"  \"Yes--quite insensible to the irony. She wanted him vindicated--and by me!\"  He laughed again, and threw back his head to look up at the sketch of the donkey. \"There were days when I\n",
      "Ep 15 (Iter 000130): Train loss 0.177, Val loss 6.539\n",
      "Every effort moves you?\"  \"Yes--quite insensible to the irony. She wanted him vindicated--and by me!\"  He laughed again, and threw back his head to look up at the sketch of the donkey. \"There were days when I\n",
      "Training completed in 0.47 minutes.\n"
     ]
    }
   ],
   "source": [
    "import tiktoken\n",
    "\n",
    "import time\n",
    "start_time = time.time()\n",
    "\n",
    "torch.manual_seed(123)\n",
    "model = GPTModel(GPT_CONFIG_124M)\n",
    "model.to(device)\n",
    "\n",
    "peak_lr = 0.001  # this was originally set to 5e-4 in the book by mistake\n",
    "optimizer = torch.optim.AdamW(model.parameters(), lr=peak_lr, weight_decay=0.1)  # the book accidentally omitted the lr assignment\n",
    "tokenizer = tiktoken.get_encoding(\"gpt2\")\n",
    "\n",
    "n_epochs = 15\n",
    "train_losses, val_losses, tokens_seen, lrs = train_model(\n",
    "    model, train_loader, val_loader, optimizer, device, n_epochs=n_epochs,\n",
    "    eval_freq=5, eval_iter=1, start_context=\"Every effort moves you\",\n",
    "    tokenizer=tokenizer, warmup_steps=warmup_steps, \n",
    "    initial_lr=1e-5, min_lr=1e-5\n",
    ")\n",
    "\n",
    "end_time = time.time()\n",
    "execution_time_minutes = (end_time - start_time) / 60\n",
    "print(f\"Training completed in {execution_time_minutes:.2f} minutes.\")"
   ]
  },
  {
   "cell_type": "code",
   "execution_count": 25,
   "metadata": {},
   "outputs": [
    {
     "data": {
      "image/png": "[encoded data removed]",
      "text/plain": [
       "<Figure size 360x216 with 1 Axes>"
      ]
     },
     "metadata": {
      "needs_background": "light"
     },
     "output_type": "display_data"
    }
   ],
   "source": [
    "plt.figure(figsize=(5, 3))\n",
    "plt.plot(range(len(lrs)), lrs)\n",
    "plt.ylabel(\"Learning rate\")\n",
    "plt.xlabel(\"Steps\")\n",
    "plt.show()"
   ]
  },
  {
   "cell_type": "code",
   "execution_count": 26,
   "metadata": {},
   "outputs": [
    {
     "data": {
      "image/png": "[encoded data removed]",
      "text/plain": [
       "<Figure size 360x216 with 2 Axes>"
      ]
     },
     "metadata": {
      "needs_background": "light"
     },
     "output_type": "display_data"
    },
    {
     "data": {
      "text/plain": [
       "<Figure size 432x288 with 0 Axes>"
      ]
     },
     "metadata": {},
     "output_type": "display_data"
    }
   ],
   "source": [
    "from previous_chapters import plot_losses\n",
    "# Alternatively:\n",
    "# from llms_from_scratch.ch05 import plot_losses\n",
    "\n",
    "\n",
    "epochs_tensor = torch.linspace(1, n_epochs, len(train_losses))\n",
    "plot_losses(epochs_tensor, tokens_seen, train_losses, val_losses)\n",
    "plt.tight_layout(); plt.savefig(\"3.pdf\")\n",
    "plt.show()"
   ]
  }
 ],
 "metadata": {
  "kernelspec": {
   "display_name": "base",
   "language": "python",
   "name": "python3"
  },
  "language_info": {
   "codemirror_mode": {
    "name": "ipython",
    "version": 3
   },
   "file_extension": ".py",
   "mimetype": "text/x-python",
   "name": "python",
   "nbconvert_exporter": "python",
   "pygments_lexer": "ipython3",
   "version": "3.8.12"
  }
 },
 "nbformat": 4,
 "nbformat_minor": 2
}
