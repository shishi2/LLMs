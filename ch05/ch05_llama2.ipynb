{
 "cells": [
  {
   "cell_type": "code",
   "execution_count": null,
   "metadata": {},
   "outputs": [
    {
     "name": "stdout",
     "output_type": "stream",
     "text": [
      "huggingface_hub version: 0.33.2\n",
      "sentencepiece version: 0.2.0\n",
      "torch version: 2.4.1\n"
     ]
    }
   ],
   "source": [
    "from importlib.metadata import version\n",
    "pkgs = [\n",
    "\t\"huggingface_hub\",  # to download pretrained weights\n",
    "\t\"sentencepiece\",    # to implement the tokenizer\n",
    "\t\"torch\",            # to implement the model\n",
    "]\n",
    "for p in pkgs:\n",
    "\tprint(f\"{p} version: {version(p)}\")"
   ]
  },
  {
   "cell_type": "markdown",
   "metadata": {},
   "source": [
    "### 1 GPT $\\rightarrow$ LLama2\n",
    "\n",
    "#### 1.1 LayerNorm $\\rightarrow$ RMSNorm\n",
    "\n",
    "- LayerNorm 用mean 和 variance 计算标准化\n",
    "\n",
    "$$y_i = \\frac{x_i - \\mu}{\\sqrt{\\sigma^2 + \\epsilon}} \\gamma_i + \\beta_i, \\quad \\text{where} \\quad \\mu = \\frac{1}{n} \\sum x_i, \\quad \\sigma^2 = \\frac{1}{n} \\sum (x_i - \\mu)^2$$\n",
    "\n",
    "- RMSNorm 用mean square 计算标准化的平方根\n",
    "\n",
    "$$y_i = \\frac{x_i}{\\text{RMS}(x)} \\gamma_i, \\quad \\text{where} \\quad \\text{RMS}(x) = \\sqrt{\\epsilon + \\frac{1}{n} \\sum x_i^2}$$\n",
    "\n"
   ]
  },
  {
   "cell_type": "code",
   "execution_count": null,
   "metadata": {},
   "outputs": [],
   "source": [
    "import torch\n",
    "import torch.nn as nn\n",
    "\n",
    "# class LayerNorm(nn.Module):\n",
    "#     def __init__(self, emb_dim):\n",
    "#         super().__init__()\n",
    "#         self.eps = 1e-5\n",
    "#         self.scale = nn.Parameter(torch.ones(emb_dim))\n",
    "#         self.shift = nn.Parameter(torch.zeros(emb_dim))\n",
    "\n",
    "#     def forward(self, x):\n",
    "#         mean = x.mean(dim=-1, keepdim=True)\n",
    "#         var = x.var(dim=-1, keepdim=True, unbiased=False)\n",
    "#         norm_x = (x - mean) / torch.sqrt(var + self.eps)\n",
    "#         return self.scale * norm_x + self.shift\n",
    "\n",
    "class RMSNorm(nn.Module):\n",
    "\tdef __init__(self, emb_dim, eps=1e-5):\n",
    "\t\tsuper().__init__()\n",
    "\t\tself.eps = eps\n",
    "\t\tself.emb_dim = emb_dim\n",
    "\t\tself.weight = nn.Parameter(torch.ones(emb_dim)).float()\n",
    "\n",
    "\tdef forward(self, x):\n",
    "\t\tmeans = x.pow(2).mean(dim=-1, keepdim=True)\n",
    "\t\tx_normed = x * torch.rsqrt(means + self.eps)\n",
    "\t\treturn (x_normed * self.weight).to(dtype=x.dtype)"
   ]
  },
  {
   "cell_type": "code",
   "execution_count": 15,
   "metadata": {},
   "outputs": [],
   "source": [
    "torch.manual_seed(123)\n",
    "\n",
    "example_batch = torch.randn(2, 3, 4)\n",
    "\n",
    "rms_norm = RMSNorm(emb_dim=example_batch.shape[-1])\n",
    "rmsnorm_pytorch = torch.nn.RMSNorm(example_batch.shape[-1], eps=1e-5)\n",
    "\n",
    "assert torch.allclose(rms_norm(example_batch), rmsnorm_pytorch(example_batch))"
   ]
  },
  {
   "cell_type": "markdown",
   "metadata": {},
   "source": [
    "$\\lvert \\text{input} - \\text{other} \\rvert \\leq \\texttt{atol} + \\texttt{rtol} \\times \\lvert \\text{other} \\rvert$"
   ]
  },
  {
   "cell_type": "markdown",
   "metadata": {},
   "source": [
    "#### 1.2 GELU $\\rightarrow$ SiLU\n",
    "$$ \\text{GELU}(x) = x \\cdot \\Phi(x), \\quad \\text{where} \\quad \\Phi(x) = \\frac{1}{2} \\left(1 + \\text{erf}\\left(\\frac{x}{\\sqrt{2}}\\right)\\right) $$\n",
    "\n",
    "$$ \\mathrm{erf}(x) = \\frac{2}{\\sqrt{\\pi}} \\int_0^x e^{-t^2} , dt $$\n",
    "\n",
    "$$\n",
    "\\text{silu}(x) = x \\cdot \\sigma(x), \\quad \\text{where} \\quad \\sigma(x) \\text{ is the logistic sigmoid.}\n",
    "$$"
   ]
  },
  {
   "cell_type": "code",
   "execution_count": null,
   "metadata": {},
   "outputs": [],
   "source": [
    "class SiLU(nn.Module):\n",
    "\tdef __init__(self) -> None:\n",
    "\t\tsuper().__init__()\n",
    "\t\tsuper(SiLU, self).__init__()\n",
    "\n",
    "\tdef forward(self, x):\n",
    "\t\treturn x * torch.sigmoid(x)"
   ]
  },
  {
   "cell_type": "code",
   "execution_count": 17,
   "metadata": {},
   "outputs": [],
   "source": [
    "silu = SiLU()\n",
    "assert torch.allclose(silu(example_batch), torch.nn.functional.silu(example_batch))"
   ]
  },
  {
   "cell_type": "markdown",
   "metadata": {},
   "source": [
    "#### 1.3 FeedForward\n",
    "\n",
    "$$\\text{SwiGLU}(x) = \\text{SiLU}(\\text{Linear}_1(x)) * (\\text{Linear}_2(x))$$"
   ]
  },
  {
   "cell_type": "code",
   "execution_count": null,
   "metadata": {},
   "outputs": [],
   "source": [
    "class FeedForward(nn.Module):\n",
    "\tdef __init__(self, cfg) -> None:\n",
    "\t\tsuper().__init__()\n",
    "\t\tself.fc1 = nn.Linear(cfg[\"emb_dim\"], cfg[\"hidden_dim\"], dtype=cfg[\"dtype\"], biad=False)\n",
    "\t\tself.fc2 = nn.Linear(cfg[\"emb_dim\"], cfg[\"hidden_dim\"], dtype=cfg[\"dtype\"], biad=False)\n",
    "\t\tself.fc3 = nn.Linear(cfg[\"hidden_dim\"], cfg[\"emb_dim\"], dtype=cfg[\"dtype\"], biad=False)\n",
    "\t\tself.silu = SiLU()\n",
    "\n",
    "\tdef forward(self, x):\n",
    "\t\tx_fc1 = self.fc1(x)\n",
    "\t\tx_fc2 = self.fc2(x)\n",
    "\t\tx = self.silu(x_fc1) * x_fc2\t# element-wise multiplication\n",
    "\t\treturn self.fc3(x)"
   ]
  },
  {
   "cell_type": "markdown",
   "metadata": {},
   "source": [
    "#### 1.4 pos emb $\\rightarrow$ RoPE"
   ]
  },
  {
   "cell_type": "code",
   "execution_count": null,
   "metadata": {},
   "outputs": [],
   "source": [
    "from torch import device\n",
    "\n",
    "\n",
    "def precompute_rope_params(head_dim, theta_base=10_000, context_length=4096):\n",
    "\tassert head_dim %2 == 0, \"Embedding dimension must be even\"\t# 偶数\n",
    "\n",
    "\t# Compute the inverse frequencies\n",
    "\tinv_freq = 1.0 / (theta_base ** (torch.arange(0, head_dim, 2)[:(head_dim // 2)].float() / head_dim))\n",
    "\n",
    "\t# 下标\n",
    "\tpositions = torch.arange(context_length)\n",
    "\n",
    "\t# angle\n",
    "\tangles = positions[:, None] * inv_freq[None, :]\t# Shape: (context_length, head_dim // 2)\n",
    "\tangles = torch.cat([angles, angles], dim=1)\t# Shape: (context_length, head_dim)\n",
    "\n",
    "\tcos = torch.cos(angles)\n",
    "\tsin = torch.sin(angles)\n",
    "\n",
    "\treturn cos, sin\n",
    "\n",
    "def compute_rope(x, cos, sin):\n",
    "\t# x: (batch_size, num_heads, seq_len, head_dim)\n",
    "\tbatch_size, num_heads, seq_len, head_dim = x.shape\n",
    "\tassert head_dim % 2 == 0\n",
    "\n",
    "\tx1 = x[..., : head_dim // 2]\n",
    "\tx2 = x[..., head_dim // 2 :]\n",
    "\n",
    "\tcos = cos[:seq_len, :].unsqueeze(0).unsqueeze(0)\t# Shape: (1, 1, seq_len, head_dim)\n",
    "\tsin = sin[:seq_len, :].unsqueeze(0).unsqueeze(0)\n",
    "\n",
    "\t# rotary transformation\n",
    "\trotated = torch.cat((-x2, x1), dim=-1)\t# 旋转90度\n",
    "\tx_roated = (x * cos) + (rotated * sin)\n",
    "\n",
    "\treturn x_roated.to(dtype=x.dtype)"
   ]
  },
  {
   "cell_type": "markdown",
   "metadata": {},
   "source": [
    "- 应用"
   ]
  },
  {
   "cell_type": "code",
   "execution_count": 21,
   "metadata": {},
   "outputs": [],
   "source": [
    "batch_size = 2\n",
    "context_len = 5\n",
    "num_heads = 4\n",
    "head_dim = 16\n",
    "\n",
    "cos, sin = precompute_rope_params(head_dim=head_dim, context_length=context_len)\n",
    "\n",
    "torch.manual_seed(123)\n",
    "queries = torch.randn(batch_size, num_heads, context_len, head_dim)\n",
    "keys = torch.randn(batch_size, num_heads, context_len, head_dim)\n",
    "queries_rot = compute_rope(queries, cos, sin)\n",
    "keys_rot = compute_rope(keys, cos, sin)"
   ]
  },
  {
   "cell_type": "markdown",
   "metadata": {},
   "source": [
    "#### 1.5 添加RoPE 到attention"
   ]
  },
  {
   "cell_type": "code",
   "execution_count": null,
   "metadata": {},
   "outputs": [],
   "source": [
    "class MultiHeadAttention(nn.Module):\n",
    "\tdef __init__(self, d_in, d_out, context_length, num_heads, dtype=None):\n",
    "\t\tsuper().__init__()\n",
    "\t\tassert d_out % num_heads == 0, \"d_out must be divisible by n_heads\"\n",
    "\n",
    "\t\tself.d_out = d_out\n",
    "\t\tself.num_heads = num_heads\n",
    "\t\tself.head_dim = d_out // num_heads\n",
    "\n",
    "\t\t# 去掉bias\n",
    "\t\tself.W_query = nn.Linear(d_in, d_out, bias=False, dtype=dtype)\n",
    "\t\tself.W_key = nn.Linear(d_in, d_out, bias=False, dtype=dtype)\n",
    "\t\tself.W_value = nn.Linear(d_in, d_out, bias=False, dtype=dtype)\n",
    "\t\tself.out_proj = nn.Linear(d_out, d_out, bias=False, dtype=dtype)  # Linear layer to combine head outputs\n",
    "\t\t# self.dropout = nn.Dropout(dropout)\n",
    "\t\tself.register_buffer(\"mask\", torch.triu(torch.ones(context_length, context_length), diagonal=1))\n",
    "\n",
    "\t\tcos, sin = precompute_rope_params(head_dim=self.head_dim, context_length=context_len)\n",
    "\t\tself.register_buffer(\"cos\", cos)\n",
    "\t\tself.register_buffer(\"sin\", sin)\n",
    "\n",
    "\tdef forward(self, x):\n",
    "\t\tb, num_tokens, d_in = x.shape\n",
    "\n",
    "\t\tqueries = self.W_query(x)\t# Shape: (b, num_tokens, d_out)\n",
    "\t\tkeys = self.W_key(x)\n",
    "\t\tvalues = self.W_value(x)\n",
    "\n",
    "\t\t# (b, num_tokens, d_out) -> (b, num_tokens, num_heads, head_dim)\n",
    "\t\tqueries = queries.view(b, num_tokens, self.num_heads, self.head_dim)\n",
    "\t\tkeys = keys.view(b, num_tokens, self.num_heads, self.head_dim)\n",
    "\t\tvalues = values.view(b, num_tokens, self.num_heads, self.head_dim)\n",
    "\n",
    "\t\t# (b, num_tokens, num_heads, head_dim) -> (b, num_heads, num_tokens, head_dim)\n",
    "\t\tqueries = queries.transpose(1, 2)\n",
    "\t\tkeys = keys.transpose(1, 2)\n",
    "\t\tvalues = values.transpose(1, 2)\n",
    "\n",
    "\t\t# 位置编码\n",
    "\t\t# GPT 的位置编码是在最开始的输入部分\n",
    "\t\tqueries = compute_rope(queries, self.cos, self.sin)\n",
    "\t\tkeys = compute_rope(keys, self.cos, self.sin)\n",
    "\n",
    "\t\tattn_scores = queries @ keys.transpose(2, 3)\n",
    "\t\tattn_weights = torch.softmax(attn_scores / keys.shape[-1]**0.5, dim=-1)\n",
    "\n",
    "\t\t# (b, num_tokens, num_heads, head_dim)\n",
    "\t\tcontext_vec = (attn_weights @ values).transpose(1, 2)\n",
    "\t\t\n",
    "\t\tcontext_vec = context_vec.reshape(b, num_tokens, self.d_out)\n",
    "\t\tcontext_vec = self.out_proj(context_vec)\n",
    "\n",
    "\t\treturn context_vec"
   ]
  },
  {
   "cell_type": "code",
   "execution_count": 24,
   "metadata": {},
   "outputs": [],
   "source": [
    "batch_size = 1\n",
    "context_len = 100\n",
    "max_context_len = 4096\n",
    "embed_dim = 128\n",
    "num_heads = 4\n",
    "\n",
    "example_batch = torch.randn((batch_size, context_len, embed_dim))\n",
    "\n",
    "mha = MultiHeadAttention(\n",
    "\td_in=embed_dim,\n",
    "\td_out=embed_dim,\n",
    "\tcontext_length=max_context_len,\n",
    "\tnum_heads=num_heads\n",
    ")\n",
    "\n",
    "mha(example_batch)\n",
    "\n",
    "del mha  # delete to free up memory"
   ]
  },
  {
   "cell_type": "markdown",
   "metadata": {},
   "source": [
    "#### 1.6 TransformerBlock"
   ]
  },
  {
   "cell_type": "code",
   "execution_count": 25,
   "metadata": {},
   "outputs": [],
   "source": [
    "class TransformerBlock(nn.Module):\n",
    "\tdef __init__(self, cfg):\n",
    "\t\tself.att = MultiHeadAttention(\n",
    "\t\t\td_in=cfg[\"emb_dim\"],\n",
    "\t\t\td_out=cfg[\"emb_dim\"],\n",
    "\t\t\tcontext_length=cfg[\"context_length\"],\n",
    "\t\t\tnum_heads=cfg[\"n_heads\"],\n",
    "\t\t\tdtype=cfg[\"dtype\"]\n",
    "\t\t)\n",
    "\t\tself.ff = FeedForward(cfg)\n",
    "\n",
    "\t\tself.norm1 = RMSNorm(cfg[\"emb_dim\"])\n",
    "\t\tself.norm2 = RMSNorm(cfg[\"emb_dim\"])\n",
    "\t\n",
    "\tdef forward(self, x):\n",
    "\t\tshortcut = x\t# 原始输入\n",
    "\t\tx = self.norm1(x)\n",
    "\t\tx = self.att(x)\t# Shape [batch_size, num_tokens, emb_size]\n",
    "\t\tx = x + shortcut\t# 原始输入 + feedforward\n",
    "\n",
    "\t\tshortcut = x\t# 原始输入 + feedforward\n",
    "\t\tx = self.norm2(x)\n",
    "\t\tx = self.ff(x)\n",
    "\t\tx = x + shortcut\t# 原始输入 + feedforward + attention\n",
    "\n",
    "\t\treturn x"
   ]
  },
  {
   "cell_type": "markdown",
   "metadata": {},
   "source": [
    "#### 1.7 Llama2"
   ]
  },
  {
   "cell_type": "code",
   "execution_count": null,
   "metadata": {},
   "outputs": [
    {
     "ename": "AttributeError",
     "evalue": "module 'torch.nn' has no attribute 'Model'",
     "output_type": "error",
     "traceback": [
      "\u001b[0;31m---------------------------------------------------------------------------\u001b[0m",
      "\u001b[0;31mAttributeError\u001b[0m                            Traceback (most recent call last)",
      "\u001b[0;32m/tmp/ipykernel_72760/984313976.py\u001b[0m in \u001b[0;36m<module>\u001b[0;34m\u001b[0m\n\u001b[0;32m----> 1\u001b[0;31m \u001b[0;32mclass\u001b[0m \u001b[0mLlama2Model\u001b[0m\u001b[0;34m(\u001b[0m\u001b[0mnn\u001b[0m\u001b[0;34m.\u001b[0m\u001b[0mModel\u001b[0m\u001b[0;34m)\u001b[0m\u001b[0;34m:\u001b[0m\u001b[0;34m\u001b[0m\u001b[0;34m\u001b[0m\u001b[0m\n\u001b[0m\u001b[1;32m      2\u001b[0m         \u001b[0;32mdef\u001b[0m \u001b[0m__init__\u001b[0m\u001b[0;34m(\u001b[0m\u001b[0mself\u001b[0m\u001b[0;34m,\u001b[0m \u001b[0mcfg\u001b[0m\u001b[0;34m)\u001b[0m\u001b[0;34m:\u001b[0m\u001b[0;34m\u001b[0m\u001b[0;34m\u001b[0m\u001b[0m\n\u001b[1;32m      3\u001b[0m                 \u001b[0msuper\u001b[0m\u001b[0;34m(\u001b[0m\u001b[0;34m)\u001b[0m\u001b[0;34m.\u001b[0m\u001b[0m__init__\u001b[0m\u001b[0;34m(\u001b[0m\u001b[0;34m)\u001b[0m\u001b[0;34m\u001b[0m\u001b[0;34m\u001b[0m\u001b[0m\n\u001b[1;32m      4\u001b[0m                 \u001b[0mself\u001b[0m\u001b[0;34m.\u001b[0m\u001b[0mtok_emb\u001b[0m \u001b[0;34m=\u001b[0m \u001b[0mnn\u001b[0m\u001b[0;34m.\u001b[0m\u001b[0mEmbedding\u001b[0m\u001b[0;34m(\u001b[0m\u001b[0mcfg\u001b[0m\u001b[0;34m[\u001b[0m\u001b[0;34m\"vocab_size\"\u001b[0m\u001b[0;34m]\u001b[0m\u001b[0;34m,\u001b[0m \u001b[0mcfg\u001b[0m\u001b[0;34m[\u001b[0m\u001b[0;34m\"emb_dim\"\u001b[0m\u001b[0;34m]\u001b[0m\u001b[0;34m,\u001b[0m \u001b[0mdtype\u001b[0m\u001b[0;34m=\u001b[0m\u001b[0mcfg\u001b[0m\u001b[0;34m[\u001b[0m\u001b[0;34m\"dtype\"\u001b[0m\u001b[0;34m]\u001b[0m\u001b[0;34m)\u001b[0m\u001b[0;34m\u001b[0m\u001b[0;34m\u001b[0m\u001b[0m\n\u001b[1;32m      5\u001b[0m \u001b[0;34m\u001b[0m\u001b[0m\n",
      "\u001b[0;31mAttributeError\u001b[0m: module 'torch.nn' has no attribute 'Model'"
     ]
    }
   ],
   "source": [
    "class Llama2Model(nn.Module):\n",
    "\tdef __init__(self, cfg):\n",
    "\t\tsuper().__init__()\n",
    "\t\tself.tok_emb = nn.Embedding(cfg[\"vocab_size\"], cfg[\"emb_dim\"], dtype=cfg[\"dtype\"])\n",
    "\t\t\n",
    "\t\tself.trf_blocks = nn.Sequential(\n",
    "\t\t\t*[TransformerBlock(cfg) for _ in range(cfg[\"n_layers\"])]\n",
    "\t\t)\n",
    "\n",
    "\t\tself.final_norm = RMSNorm(cfg[\"emb_dim\"])\n",
    "\t\t\n",
    "\t\tself.out_head = nn.Linear(cfg[\"emb_dim\"], cfg[\"vocab_size\"], bias=False, dtype=[\"dtype\"])\n",
    "\t\n",
    "\tdef forward(self, in_idx):\n",
    "\t\ttok_embeds = self.tok_emb(in_idx)\n",
    "\t\tx = tok_embeds\n",
    "\t\tx = self.trf_blocks(x)\n",
    "\t\tx = self.final_norm(x)\n",
    "\t\tlogits = self.out_head(x)\n",
    "\t\treturn logits"
   ]
  },
  {
   "cell_type": "markdown",
   "metadata": {},
   "source": [
    "### initialize model"
   ]
  }
 ],
 "metadata": {
  "kernelspec": {
   "display_name": "base",
   "language": "python",
   "name": "python3"
  },
  "language_info": {
   "codemirror_mode": {
    "name": "ipython",
    "version": 3
   },
   "file_extension": ".py",
   "mimetype": "text/x-python",
   "name": "python",
   "nbconvert_exporter": "python",
   "pygments_lexer": "ipython3",
   "version": "3.8.12"
  }
 },
 "nbformat": 4,
 "nbformat_minor": 2
}
