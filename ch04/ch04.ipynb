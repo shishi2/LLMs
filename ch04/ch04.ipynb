{
 "cells": [
  {
   "cell_type": "code",
   "execution_count": 1,
   "metadata": {},
   "outputs": [
    {
     "name": "stdout",
     "output_type": "stream",
     "text": [
      "matplotlib version: 3.7.2\n",
      "torch version: 2.6.0+cu118\n",
      "tiktoken version: 0.9.0\n"
     ]
    }
   ],
   "source": [
    "from importlib.metadata import version\n",
    "\n",
    "print(\"matplotlib version:\", version(\"matplotlib\"))\n",
    "print(\"torch version:\", version(\"torch\"))\n",
    "print(\"tiktoken version:\", version(\"tiktoken\"))"
   ]
  },
  {
   "cell_type": "code",
   "execution_count": 6,
   "metadata": {},
   "outputs": [],
   "source": [
    "GPT_CONFIG_124M = {\n",
    "\t\"vocab_size\": 50257,\t# Vocabulary size\n",
    "\t\"context_length\": 1024,\t# Context length\n",
    "\t\"emb_dim\": 768,\t\t\t# Embedding dimension\n",
    "\t\"n_heads\": 12,\t\t\t# Number of attention heads\n",
    "\t\"n_layers\": 12,\t\t\t# Number of layers\n",
    "\t\"drop_rate\": 0.1,\t\t# Dropout rate\n",
    "\t\"qkv_bias\": False\t\t# Query-Key-Value bias\n",
    "}"
   ]
  },
  {
   "cell_type": "code",
   "execution_count": 3,
   "metadata": {},
   "outputs": [],
   "source": [
    "import torch\n",
    "import torch.nn as nn\n",
    "\n",
    "class DummyGPTModel(nn.Module):\n",
    "\tdef __init__(self, cfg):\n",
    "\t\tsuper().__init__()\n",
    "\t\tself.tok_emb = nn.Embedding(cfg[\"vocab_size\"], cfg[\"emb_dim\"])\n",
    "\t\tself.pos_emb = nn.Embedding(cfg[\"context_length\"], cfg[\"emb_dim\"])\n",
    "\t\tself.drop_emb = nn.Dropout(cfg[\"drop_rate\"])\n",
    "\n",
    "\t\tself.trf_blocks = nn.Sequential(\n",
    "\t\t\t*[DummyTransformerBlock(cfg) for _ in range(cfg[\"n_layers\"])]\n",
    "\t\t)\n",
    "\n",
    "\t\tself.final_norm = DummyLayerNorm(cfg[\"emb_dim\"])\n",
    "\t\tself.out_head = nn.Linear(cfg[\"emb_dim\"], cfg[\"vocab_size\"], bias=False)\n",
    "\n",
    "\tdef forward(self, in_idx):\n",
    "\t\tbatch_size, seq_len = in_idx.shape\n",
    "\t\ttok_embeds = self.tok_emb(in_idx)\n",
    "\t\tpos_embeds = self.pos_emb(torch.arange(seq_len, device=in_idx.device))\n",
    "\t\tx = tok_embeds + pos_embeds\n",
    "\t\tx = self.drop_emb(x)\n",
    "\t\tx = self.trf_blocks(x)\n",
    "\t\tx = self.final_norm(x)\n",
    "\t\tlogits = self.out_head(x)\n",
    "\t\treturn logits\n",
    "\n",
    "class DummyTransformerBlock(nn.Module):\n",
    "\tdef __init__(self, cfg):\n",
    "\t\tsuper().__init__()\n",
    "\t\t# A simple placeholder\n",
    "\n",
    "\tdef forward(self, x):\n",
    "\t\t# This block does nothing and just returns its input.\n",
    "\t\treturn x\n",
    "\t\n",
    "class DummyLayerNorm(nn.Module):\n",
    "\tdef __init__(self, normalized_shape, eps=1e-5):\n",
    "\t\tsuper().__init__()\n",
    "\t\t# The parameters here are just to mimic the LayerNorm interface.\n",
    "\n",
    "\tdef forward(self, x):\n",
    "\t\t# This layer does nothing and just returns its input.\n",
    "\t\treturn x"
   ]
  },
  {
   "cell_type": "code",
   "execution_count": 4,
   "metadata": {},
   "outputs": [
    {
     "name": "stdout",
     "output_type": "stream",
     "text": [
      "tensor([[6109, 3626, 6100,  345],\n",
      "        [6109, 1110, 6622,  257]])\n"
     ]
    }
   ],
   "source": [
    "import tiktoken\n",
    "\n",
    "tokenizer = tiktoken.get_encoding(\"gpt2\")\n",
    "batch = []\n",
    "\n",
    "txt1 = \"Every effort moves you\"\n",
    "txt2 = \"Every day holds a\"\n",
    "\n",
    "batch.append(torch.tensor(tokenizer.encode(txt1)))\n",
    "batch.append(torch.tensor(tokenizer.encode(txt2)))\n",
    "batch = torch.stack(batch, dim=0)\n",
    "print(batch)"
   ]
  },
  {
   "cell_type": "code",
   "execution_count": 7,
   "metadata": {},
   "outputs": [
    {
     "name": "stdout",
     "output_type": "stream",
     "text": [
      "Output shape: torch.Size([2, 4, 50257])\n",
      "tensor([[[-0.9289,  0.2748, -0.7557,  ..., -1.6070,  0.2702, -0.5888],\n",
      "         [-0.4476,  0.1726,  0.5354,  ..., -0.3932,  1.5285,  0.8557],\n",
      "         [ 0.5680,  1.6053, -0.2155,  ...,  1.1624,  0.1380,  0.7425],\n",
      "         [ 0.0447,  2.4787, -0.8843,  ...,  1.3219, -0.0864, -0.5856]],\n",
      "\n",
      "        [[-1.5474, -0.0542, -1.0571,  ..., -1.8061, -0.4494, -0.6747],\n",
      "         [-0.8422,  0.8243, -0.1098,  ..., -0.1434,  0.2079,  1.2046],\n",
      "         [ 0.1355,  1.1858, -0.1453,  ...,  0.0869, -0.1590,  0.1552],\n",
      "         [ 0.1666, -0.8138,  0.2307,  ...,  2.5035, -0.3055, -0.3083]]],\n",
      "       grad_fn=<UnsafeViewBackward0>)\n"
     ]
    }
   ],
   "source": [
    "torch.manual_seed(123)\n",
    "model = DummyGPTModel(GPT_CONFIG_124M)\n",
    "\n",
    "logits = model(batch)\n",
    "print(\"Output shape:\", logits.shape)\n",
    "print(logits)"
   ]
  },
  {
   "cell_type": "markdown",
   "metadata": {},
   "source": [
    "### 4.2 Normalizing activations with layer normalization\n",
    "\n",
    "- 例子"
   ]
  },
  {
   "cell_type": "code",
   "execution_count": 8,
   "metadata": {},
   "outputs": [
    {
     "name": "stdout",
     "output_type": "stream",
     "text": [
      "tensor([[0.2260, 0.3470, 0.0000, 0.2216, 0.0000, 0.0000],\n",
      "        [0.2133, 0.2394, 0.0000, 0.5198, 0.3297, 0.0000]],\n",
      "       grad_fn=<ReluBackward0>)\n"
     ]
    }
   ],
   "source": [
    "torch.manual_seed(123)\n",
    "\n",
    "batch_example = torch.randn(2, 5) \n",
    "\n",
    "layer = nn.Sequential(nn.Linear(5, 6), nn.ReLU())\n",
    "out = layer(batch_example)\n",
    "print(out)"
   ]
  },
  {
   "cell_type": "code",
   "execution_count": 9,
   "metadata": {},
   "outputs": [
    {
     "name": "stdout",
     "output_type": "stream",
     "text": [
      "Mean:\n",
      " tensor([[0.1324],\n",
      "        [0.2170]], grad_fn=<MeanBackward1>)\n",
      "Variance:\n",
      " tensor([[0.0231],\n",
      "        [0.0398]], grad_fn=<VarBackward0>)\n"
     ]
    }
   ],
   "source": [
    "mean = out.mean(dim=-1, keepdim=True)\n",
    "var = out.var(dim=-1, keepdim=True)\n",
    "\n",
    "print(\"Mean:\\n\", mean)\n",
    "print(\"Variance:\\n\", var)"
   ]
  },
  {
   "cell_type": "code",
   "execution_count": 11,
   "metadata": {},
   "outputs": [
    {
     "name": "stdout",
     "output_type": "stream",
     "text": [
      "Normalized layer outputs:\n",
      " tensor([[ 2.2595e-01,  3.4695e-01, -9.9341e-09,  2.2160e-01, -9.9341e-09,\n",
      "         -9.9341e-09],\n",
      "        [ 2.1328e-01,  2.3942e-01,  0.0000e+00,  5.1984e-01,  3.2975e-01,\n",
      "          0.0000e+00]], grad_fn=<DivBackward0>)\n",
      "Mean:\n",
      " tensor([[0.1324],\n",
      "        [0.2170]], grad_fn=<MeanBackward1>)\n",
      "Variance:\n",
      " tensor([[0.0231],\n",
      "        [0.0398]], grad_fn=<VarBackward0>)\n",
      "Mean:\n",
      " tensor([[0.1324],\n",
      "        [0.2170]], grad_fn=<MeanBackward1>)\n",
      "Variance:\n",
      " tensor([[0.0231],\n",
      "        [0.0398]], grad_fn=<VarBackward0>)\n"
     ]
    }
   ],
   "source": [
    "out_norm = (out - mean) / torch.sqrt(var)\n",
    "print(\"Normalized layer outputs:\\n\", out_norm)\n",
    "\n",
    "mean = out_norm.mean(dim=-1, keepdim=True)\n",
    "var = out_norm.var(dim=-1, keepdim=True)\n",
    "print(\"Mean:\\n\", mean)\n",
    "print(\"Variance:\\n\", var)\n",
    "\n",
    "# 禁科学技术法\n",
    "torch.set_printoptions(sci_mode=False)\n",
    "print(\"Mean:\\n\", mean)\n",
    "print(\"Variance:\\n\", var)"
   ]
  },
  {
   "cell_type": "code",
   "execution_count": 12,
   "metadata": {},
   "outputs": [],
   "source": [
    "class LayerNorm(nn.Module):\n",
    "\tdef __init__(self, emb_dim):\n",
    "\t\tself.eps = 1e-5\n",
    "\t\tself.scale = nn.Parameter(torch.ones(emb_dim))\n",
    "\t\tself.shift = nn.Parameter(torch.zeros(emb_dim))\n",
    "\n",
    "\tdef forward(self, x):\n",
    "\t\tmean = x.mean(dim=-1, keepdim=True)\n",
    "\t\tvar = x.var(dim=-1, keeepdim=True, unbiased=False)\n",
    "\t\tnorm_x = (x - mean) / torch.sqrt(var + self.eps)\n",
    "\t\treturn self.scale * norm_x + self.shift"
   ]
  }
 ],
 "metadata": {
  "kernelspec": {
   "display_name": "d2l",
   "language": "python",
   "name": "python3"
  },
  "language_info": {
   "codemirror_mode": {
    "name": "ipython",
    "version": 3
   },
   "file_extension": ".py",
   "mimetype": "text/x-python",
   "name": "python",
   "nbconvert_exporter": "python",
   "pygments_lexer": "ipython3",
   "version": "3.9.18"
  }
 },
 "nbformat": 4,
 "nbformat_minor": 2
}
